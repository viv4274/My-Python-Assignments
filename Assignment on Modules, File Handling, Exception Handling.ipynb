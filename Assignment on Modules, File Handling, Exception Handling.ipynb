{
 "cells": [
  {
   "cell_type": "markdown",
   "id": "b96938a0",
   "metadata": {},
   "source": [
    "## Modules - Included questions from different internal/external libraries"
   ]
  },
  {
   "cell_type": "code",
   "execution_count": 1,
   "id": "addce27a",
   "metadata": {},
   "outputs": [],
   "source": [
    "#Mo1  Hint: use json library/module\n",
    "Write a Python program to convert data in a given json file to the following format.\n",
    "(Find json file attached)\n",
    "Input: Given JSON File (https://drive.google.com/file/d/15zl_FaXdatnlLlciBSrYKdiyaTvEATbO/view)\n",
    "Output:\n",
    "    header.title = \"This is main\"\n",
    "    header.subtitle = \"This is subtext\"\n",
    "    footer.chapter = \"Chapter Title\"\n",
    "    footer.page = \"1\"\n",
    "    footer.revision = \"First\"\n",
    "    body.content = \"This is a paragraph\""
   ]
  },
  {
   "cell_type": "code",
   "execution_count": null,
   "id": "2d3cd42a",
   "metadata": {},
   "outputs": [],
   "source": [
    "#Mo2\n",
    "Write a program to download specific video from YouTube and save it inside computer.\n",
    "Take video link as input from the user."
   ]
  },
  {
   "cell_type": "code",
   "execution_count": null,
   "id": "0a7a9eca",
   "metadata": {},
   "outputs": [],
   "source": [
    "#Mo3\n",
    "Write a program to play a specific audio file from the computer when the user enters a number which is a multiple of 5.\n",
    "Take 10 inputs from the user in a sequence. Play the audio file for every number which is a multiple of 5."
   ]
  },
  {
   "cell_type": "code",
   "execution_count": null,
   "id": "a65e5386",
   "metadata": {},
   "outputs": [],
   "source": [
    "#Mo4\n",
    "Write a program to print the current time and date in a timezone which is taken as input from the user."
   ]
  },
  {
   "cell_type": "code",
   "execution_count": null,
   "id": "2bbc8951",
   "metadata": {},
   "outputs": [],
   "source": [
    "#Mo5\n",
    "Write a program to tell the week number of a date taken as input from the user.\n",
    "For e.g.: \n",
    "    Input: '13/02/2022'\n",
    "    Output: 6"
   ]
  },
  {
   "cell_type": "code",
   "execution_count": null,
   "id": "f96c25fd",
   "metadata": {},
   "outputs": [],
   "source": [
    "#Mo6\n",
    "Write a program to send a specific mail to person using gmail.\n",
    "Take mail content from a txt file stored in a computer\n",
    "Take receiver email address as input from the user.\n",
    "Send the email from a set gmail account. (Use dummy account here if needed.)"
   ]
  },
  {
   "cell_type": "code",
   "execution_count": null,
   "id": "6a7e324d",
   "metadata": {},
   "outputs": [],
   "source": []
  },
  {
   "cell_type": "code",
   "execution_count": null,
   "id": "3e60db1d",
   "metadata": {},
   "outputs": [],
   "source": []
  },
  {
   "cell_type": "code",
   "execution_count": null,
   "id": "4172ea23",
   "metadata": {},
   "outputs": [],
   "source": []
  },
  {
   "cell_type": "code",
   "execution_count": null,
   "id": "598bcc52",
   "metadata": {},
   "outputs": [],
   "source": []
  },
  {
   "cell_type": "markdown",
   "id": "c3ed6e30",
   "metadata": {},
   "source": [
    "## File Handling"
   ]
  },
  {
   "cell_type": "code",
   "execution_count": null,
   "id": "fd0e657a",
   "metadata": {},
   "outputs": [],
   "source": [
    "#F1\n",
    "WAP to read content from one file and create two separate files from the given file content. \n",
    "The given file has two paragraphs separated by '-----------'. \n",
    "Save these two paragraphs in two separate files."
   ]
  },
  {
   "cell_type": "code",
   "execution_count": null,
   "id": "bf58df1f",
   "metadata": {},
   "outputs": [],
   "source": [
    "#F2\n",
    "Write a program to save the dictionary inside a file in json style.\n",
    "The dictionary is containing multiple details about a book such as author, date, pages, mrp, etc..."
   ]
  },
  {
   "cell_type": "code",
   "execution_count": null,
   "id": "dcca32a1",
   "metadata": {},
   "outputs": [],
   "source": [
    "#F3\n",
    "Write a program to read specific lines from a given txt file. Take line number as input from the user."
   ]
  },
  {
   "cell_type": "code",
   "execution_count": null,
   "id": "f508b540",
   "metadata": {},
   "outputs": [],
   "source": [
    "#F4\n",
    "Write a Python program that takes a text file as input and returns the number of words present in the file."
   ]
  },
  {
   "cell_type": "code",
   "execution_count": null,
   "id": "37708f9e",
   "metadata": {},
   "outputs": [],
   "source": [
    "#F5\n",
    "Write a Python program to generate 26 text files named A.txt, B.txt, and so on up to Z.txt.\n",
    "Save the multiplication table of the corresponding number in the corresponding text file.\n",
    "For e.g.: Table of 1 in A.txt, Table of 2 in B.txt and so on..."
   ]
  },
  {
   "cell_type": "code",
   "execution_count": null,
   "id": "bf6c7afd",
   "metadata": {},
   "outputs": [],
   "source": []
  },
  {
   "cell_type": "markdown",
   "id": "41a3d9f7",
   "metadata": {},
   "source": [
    "## Regular Expression"
   ]
  },
  {
   "cell_type": "code",
   "execution_count": null,
   "id": "10ee808d",
   "metadata": {},
   "outputs": [],
   "source": [
    "#Re1\n",
    "Write a Python program where a string will start with a specific number.\n",
    "\n",
    "For e.g.: Check for string starting with 9\n",
    "    Input: 91\n",
    "    Output: True\n",
    "        \n",
    "    Input: 83\n",
    "    Output: False"
   ]
  },
  {
   "cell_type": "code",
   "execution_count": null,
   "id": "d854e2b0",
   "metadata": {},
   "outputs": [],
   "source": [
    "#Re2\n",
    "Write a Python program to search some substrings in a string.\n",
    "\n",
    "For e.g.: \"Python is a great language and easy for beginners\"\n",
    "    Input: \"Python\", \"easy\", \"best\"\n",
    "    Output: \"Matched\", \"Matched\", \"Not Matched\""
   ]
  },
  {
   "cell_type": "code",
   "execution_count": 3,
   "id": "138d6612",
   "metadata": {},
   "outputs": [
    {
     "name": "stdout",
     "output_type": "stream",
     "text": [
      "Python_is_a_great_language_and_easy_for_beginners\n"
     ]
    }
   ],
   "source": [
    "#Re3\n",
    "#Write a Python program to replace whitespaces with an underscore.\n",
    "\n",
    "#For e.g.: \n",
    "    #Input: \"Python is a great language and easy for beginners\"\n",
    "    #Output: \"Python_is_a_great_language_and_easy_for_beginners\"\n",
    "import re\n",
    "strngname = \"Python is a great language and easy for beginners\"\n",
    "res = re.sub(r' ','_',strngname)\n",
    "if res:\n",
    "    print(res)\n",
    "else:\n",
    "    print('no such pattern')"
   ]
  },
  {
   "cell_type": "code",
   "execution_count": null,
   "id": "e6ccedb8",
   "metadata": {},
   "outputs": [],
   "source": [
    "#Re4\n",
    "Write a Python program to remove leading zeros from an IP address.\n",
    "\n",
    "For e.g.:\n",
    "    Input: \"216.008.094.196\"\n",
    "    Output: \"216.8.94.196\""
   ]
  },
  {
   "cell_type": "code",
   "execution_count": 25,
   "id": "7d4be271",
   "metadata": {},
   "outputs": [
    {
     "name": "stdout",
     "output_type": "stream",
     "text": [
      "216.8.94.196\n"
     ]
    }
   ],
   "source": [
    "import re\n",
    "strngname = \"216.008.094.196\"\n",
    "res = re.sub(r'[0]','',strngname)\n",
    "if res:\n",
    "    print(res)\n",
    "else:\n",
    "    print('no such pattern')"
   ]
  },
  {
   "cell_type": "code",
   "execution_count": null,
   "id": "6951afd5",
   "metadata": {},
   "outputs": [],
   "source": [
    "#Re4\n",
    "Write a Python program to find the type of IP Address\n",
    "\n",
    "For e.g.:\n",
    "    Input: 192.0.2.126\n",
    "    Output: IPv4\n",
    "\n",
    "    Input: 3001:0da8:75a3:0000:0000:8a2e:0370:7334\n",
    "    Output: IPv6\n",
    "\n",
    "    Input: 36.12.08.20.52\n",
    "    Output: Neither"
   ]
  },
  {
   "cell_type": "code",
   "execution_count": 29,
   "id": "00057f55",
   "metadata": {},
   "outputs": [
    {
     "name": "stdout",
     "output_type": "stream",
     "text": [
      "Enter IP Address36.12.08.20.52\n",
      "Neither\n"
     ]
    }
   ],
   "source": [
    "import re\n",
    "strname = input('Enter IP Address')\n",
    "res1 = re.search(r'\\d\\d\\d[.]\\d[.]\\d[.]\\d\\d\\d',strname)\n",
    "res2 = re.search(r'\\d\\d\\d\\d[:]\\d\\w\\w\\d[:]\\d\\d\\w\\d[:]\\d\\d\\d\\d[:]\\d\\d\\d\\d[:]\\d\\w\\d\\w[:]\\d\\d\\d\\d[:]\\d\\d\\d\\d',strname)\n",
    "if res1:\n",
    "    print('IPv4')\n",
    "elif res2:\n",
    "    print('IPv6')\n",
    "else:\n",
    "    print('Neither')"
   ]
  },
  {
   "cell_type": "code",
   "execution_count": null,
   "id": "d1e5bf54",
   "metadata": {},
   "outputs": [],
   "source": [
    "#Re5 Hint: Use external library OS\n",
    "Write a Python program to find files having a particular extension\n",
    "\n",
    "For e.g.:\n",
    "    Input: Different files present in a particular folder. Files are of different types\n",
    "    Output: Make a list of all the files having .txt extension"
   ]
  },
  {
   "cell_type": "code",
   "execution_count": null,
   "id": "46214ca2",
   "metadata": {},
   "outputs": [],
   "source": []
  }
 ],
 "metadata": {
  "kernelspec": {
   "display_name": "Python 3 (ipykernel)",
   "language": "python",
   "name": "python3"
  },
  "language_info": {
   "codemirror_mode": {
    "name": "ipython",
    "version": 3
   },
   "file_extension": ".py",
   "mimetype": "text/x-python",
   "name": "python",
   "nbconvert_exporter": "python",
   "pygments_lexer": "ipython3",
   "version": "3.9.13"
  }
 },
 "nbformat": 4,
 "nbformat_minor": 5
}
