{
 "cells": [
  {
   "cell_type": "code",
   "execution_count": null,
   "id": "f57f0e09",
   "metadata": {},
   "outputs": [],
   "source": [
    "#Program to Find the Largest Number in a List\n",
    "\n",
    "len_lst = int(input('enter length of the list:'))\n",
    "new_lst = []\n",
    "for i in range (0,len_lst):\n",
    "    lst = int(input('enter a number:'))\n",
    "    new_lst.append(lst)\n",
    "print(new_lst)\n",
    "new_lst.sort()\n",
    "print(new_lst[-1])\n",
    "print(new_lst[0])\n",
    "    \n"
   ]
  },
  {
   "cell_type": "code",
   "execution_count": null,
   "id": "f6280475",
   "metadata": {},
   "outputs": [],
   "source": [
    "#Program to Put Even and Odd elements in a List into Two Different Lists\n",
    "\n",
    "n = int(input('enter length of the list:'))\n",
    "mx_lst = []\n",
    "for i in range (0,n):\n",
    "    Lst = int(input('enter a number:'))\n",
    "    mx_lst.append(Lst)\n",
    "print(mx_lst)\n",
    "ev_lst = []\n",
    "od_lst = []\n",
    "for i in range (0,len(mx_lst)):\n",
    "    if mx_lst[i] % 2 == 0:\n",
    "        ev_lst.append(mx_lst[i])\n",
    "    else:\n",
    "        od_lst.append(mx_lst[i])\n",
    "print(ev_lst)\n",
    "print(od_lst)\n",
    "        \n"
   ]
  },
  {
   "cell_type": "code",
   "execution_count": null,
   "id": "d7daaaa8",
   "metadata": {},
   "outputs": [],
   "source": [
    "#Program to Read a List of Words and Return the Length of the Longest One\n",
    "\n",
    "m = int(input('enter length of the list:'))\n",
    "wrd_lst = []\n",
    "for i in range (0,m):\n",
    "    word = str(input('enter a word:'))\n",
    "    wrd_lst.append(word)\n",
    "print(wrd_lst)\n",
    "wrd_lst.sort(key = len)\n",
    "print(wrd_lst[-1])"
   ]
  },
  {
   "cell_type": "code",
   "execution_count": null,
   "id": "bce8e372",
   "metadata": {},
   "outputs": [],
   "source": [
    "#Create a List of Tuples with the First Element as the Number and Second Element as the Square of the Number\n",
    "\n",
    "p = int(input('enter length of the list:'))\n",
    "n_lst = []\n",
    "for x in range (0,p):\n",
    "    LT = int(input('enter a number:'))\n",
    "    n_lst.append(LT)\n",
    "print(n_lst)\n",
    "t_lst = [(x,x**2) for x in n_lst]\n",
    "print(t_lst)"
   ]
  },
  {
   "cell_type": "code",
   "execution_count": null,
   "id": "f9fb2449",
   "metadata": {},
   "outputs": [],
   "source": [
    "#Program to Remove the Duplicate Items from a List\n",
    "\n",
    "q = int(input('enter length of the list:'))\n",
    "k_lst = []\n",
    "for i in range (0,q):\n",
    "    L = str(input('enter a number:'))\n",
    "    k_lst.append(L)\n",
    "print(k_lst)\n",
    "k_lst = set(k_lst)\n",
    "print(list(k_lst))\n"
   ]
  },
  {
   "cell_type": "code",
   "execution_count": null,
   "id": "492970e0",
   "metadata": {},
   "outputs": [],
   "source": [
    "t = int(input('enter length of the list:'))\n",
    "a_lst = []\n",
    "for i in range (0,t):\n",
    "    A = int(input('enter a number:'))\n",
    "    a_lst.append(A)\n",
    "print(a_lst)\n",
    "b_lst = [a_lst[i] for i in range(len(a_lst)) if a_lst.index(a_lst[i]) == i]\n",
    "print(b_lst)\n",
    "    "
   ]
  },
  {
   "cell_type": "code",
   "execution_count": null,
   "id": "0602e320",
   "metadata": {},
   "outputs": [],
   "source": []
  },
  {
   "cell_type": "code",
   "execution_count": null,
   "id": "f0bfe31c",
   "metadata": {},
   "outputs": [],
   "source": []
  }
 ],
 "metadata": {
  "kernelspec": {
   "display_name": "Python 3 (ipykernel)",
   "language": "python",
   "name": "python3"
  },
  "language_info": {
   "codemirror_mode": {
    "name": "ipython",
    "version": 3
   },
   "file_extension": ".py",
   "mimetype": "text/x-python",
   "name": "python",
   "nbconvert_exporter": "python",
   "pygments_lexer": "ipython3",
   "version": "3.9.13"
  }
 },
 "nbformat": 4,
 "nbformat_minor": 5
}
