{
 "cells": [
  {
   "cell_type": "markdown",
   "id": "60e10f49",
   "metadata": {},
   "source": [
    "# Python Basics Program:"
   ]
  },
  {
   "cell_type": "markdown",
   "id": "b33fe1b0",
   "metadata": {},
   "source": [
    "##### Question 1: Print Hello World!"
   ]
  },
  {
   "cell_type": "code",
   "execution_count": null,
   "id": "283749a4",
   "metadata": {},
   "outputs": [],
   "source": [
    "print ('Hello World!')"
   ]
  },
  {
   "cell_type": "markdown",
   "id": "a172b18d",
   "metadata": {},
   "source": [
    "##### Question 2: Declare the following variables: Int, Float, Boolean, String & print its value"
   ]
  },
  {
   "cell_type": "code",
   "execution_count": null,
   "id": "e37ab218",
   "metadata": {},
   "outputs": [],
   "source": [
    "a=input('Enter an integer:')\n",
    "a=int(a)\n",
    "print ('a=',a)\n",
    "print ('type(a):',type(a))"
   ]
  },
  {
   "cell_type": "code",
   "execution_count": null,
   "id": "1182756b",
   "metadata": {},
   "outputs": [],
   "source": [
    "b=input('Enter a real number:')\n",
    "b=float(b)\n",
    "print('b=',b)\n",
    "print('type(b):',type(b))"
   ]
  },
  {
   "cell_type": "code",
   "execution_count": null,
   "id": "46cf126e",
   "metadata": {},
   "outputs": [],
   "source": [
    "c=input('Enter something or nothing:')\n",
    "c=bool(c)\n",
    "print('c=',c)\n",
    "print('type(c):',type(c))"
   ]
  },
  {
   "cell_type": "code",
   "execution_count": null,
   "id": "922a874e",
   "metadata": {},
   "outputs": [],
   "source": [
    "d=input('Enter anything:')\n",
    "d=str(d)\n",
    "print('d=',d)\n",
    "print('type(d):',type(d))"
   ]
  },
  {
   "cell_type": "markdown",
   "id": "a4de50a2",
   "metadata": {},
   "source": [
    "##### Question 3: Program to calculate area of a triangle"
   ]
  },
  {
   "cell_type": "code",
   "execution_count": null,
   "id": "4564deb1",
   "metadata": {},
   "outputs": [],
   "source": [
    "a=input('Enter height of the triangle:')\n",
    "b=input('Enter base of the triangle:')\n",
    "a=float(a)\n",
    "b=float(b)\n",
    "Area_of_the_triangle=a*b/2\n",
    "print('Area of the triangle is:',Area_of_the_triangle)"
   ]
  },
  {
   "cell_type": "markdown",
   "id": "d9caef11",
   "metadata": {},
   "source": [
    "##### Question 4: Program to swap two variables"
   ]
  },
  {
   "cell_type": "code",
   "execution_count": null,
   "id": "52b79edd",
   "metadata": {},
   "outputs": [],
   "source": [
    "a=input('enter first number:')\n",
    "b=input('enter second number:')\n",
    "a,b=b,a\n",
    "print('a:',a)\n",
    "print('b:',b)"
   ]
  },
  {
   "cell_type": "markdown",
   "id": "8a0aabb3",
   "metadata": {},
   "source": [
    "##### Question 5: Program is to check if a number is positive, negative or 0 (Using If…elif…else)\n"
   ]
  },
  {
   "cell_type": "code",
   "execution_count": null,
   "id": "e8e29ce9",
   "metadata": {},
   "outputs": [],
   "source": [
    "a=float(input('enter a number:'))\n",
    "if a>0:\n",
    "    print('a is a positive number')\n",
    "elif a<0:\n",
    "    print('a is a negative number')\n",
    "else:\n",
    "    print('a is equal to zero')"
   ]
  },
  {
   "cell_type": "markdown",
   "id": "0543ce79",
   "metadata": {},
   "source": [
    "##### Question 6: Program is to check if a number is Even or Odd"
   ]
  },
  {
   "cell_type": "code",
   "execution_count": null,
   "id": "25671509",
   "metadata": {},
   "outputs": [],
   "source": [
    "a=int(input('enter a number:'))\n",
    "if a%2==0:\n",
    "    print('a is a even number')\n",
    "else:\n",
    "    print('a is an odd number')"
   ]
  },
  {
   "cell_type": "markdown",
   "id": "bae81e3a",
   "metadata": {},
   "source": [
    "##### Question 7: Program to print Odd number within a given range"
   ]
  },
  {
   "cell_type": "code",
   "execution_count": null,
   "id": "8ebca700",
   "metadata": {},
   "outputs": [],
   "source": [
    "start=int(input('enter start value:'))\n",
    "end=int(input('enter end value:'))\n",
    "if start>end:\n",
    "    print('enter a valid range')\n",
    "else:\n",
    "    for num in range(start,end+1):\n",
    "        if num%2 != 0:\n",
    "            print(num)"
   ]
  },
  {
   "cell_type": "markdown",
   "id": "d82fd163",
   "metadata": {},
   "source": [
    "##### Question 8:Python program to find the factorial of a number"
   ]
  },
  {
   "cell_type": "code",
   "execution_count": null,
   "id": "7a93e3b4",
   "metadata": {},
   "outputs": [],
   "source": [
    "a=int(input('enter a number:'))\n",
    "factorial=1\n",
    "if a<0:\n",
    "    print('the factorial of the number is not possible')\n",
    "elif a==0:\n",
    "    print('the factorial of zero is 1')\n",
    "else:\n",
    "    for num in range(1,a+1):\n",
    "        factorial=factorial*num\n",
    "    print('the factorial of',a,'is:',factorial)"
   ]
  },
  {
   "cell_type": "markdown",
   "id": "8ddca404",
   "metadata": {},
   "source": [
    "##### Question 9:Program to reverse a given number"
   ]
  },
  {
   "cell_type": "code",
   "execution_count": null,
   "id": "54d25139",
   "metadata": {},
   "outputs": [],
   "source": [
    "a=input('enter a number:')\n",
    "a=str(a)\n",
    "print(a[-1:-len(a)-1:-1])"
   ]
  },
  {
   "cell_type": "markdown",
   "id": "c3a04cc5",
   "metadata": {},
   "source": [
    "##### Question 10: Program to find out the sum of Natural numbers\n"
   ]
  },
  {
   "cell_type": "code",
   "execution_count": null,
   "id": "3e2d9051",
   "metadata": {},
   "outputs": [],
   "source": [
    "a=int(input('enter a number:'))\n",
    "if a<0:\n",
    "    print('enter a positive number')\n",
    "elif a==0:\n",
    "    s=0\n",
    "    print('sum of natural numbers till a:',s)\n",
    "else:\n",
    "    s=a*(a+1)/2\n",
    "    print('sum of natural numbers till a:',s)"
   ]
  },
  {
   "cell_type": "markdown",
   "id": "1e709aaa",
   "metadata": {},
   "source": [
    "# Strings:"
   ]
  },
  {
   "cell_type": "markdown",
   "id": "93d5ab6c",
   "metadata": {},
   "source": [
    "##### Question1: Program to reverse a string without using recursion"
   ]
  },
  {
   "cell_type": "code",
   "execution_count": null,
   "id": "62acfe92",
   "metadata": {},
   "outputs": [],
   "source": [
    "a=str(input('enter anything:'))\n",
    "print(a[-1:-len(a)-1:-1])"
   ]
  },
  {
   "cell_type": "markdown",
   "id": "c79c1166",
   "metadata": {},
   "source": [
    "##### Question2:Program to check if string is palindrome or not"
   ]
  },
  {
   "cell_type": "code",
   "execution_count": null,
   "id": "137746ed",
   "metadata": {},
   "outputs": [],
   "source": [
    "a=str(input('enter anything:'))\n",
    "if a[0:len(a):1]==a[-1:-len(a)-1:-1]:\n",
    "    print(a,'is a palindrome')\n",
    "else:\n",
    "    print(a,'is not a palindrome')"
   ]
  },
  {
   "cell_type": "markdown",
   "id": "f7ebd8b7",
   "metadata": {},
   "source": [
    "##### Question3:Python Program to Replace all Occurrences of ‘a’ with $ in a String"
   ]
  },
  {
   "cell_type": "code",
   "execution_count": null,
   "id": "aecd489e",
   "metadata": {},
   "outputs": [],
   "source": [
    "comment = input('enter a comment:')\n",
    "modified_comment = ''\n",
    "for i in range(0,len(comment)):\n",
    "    if (comment[i]=='a' or comment[i]=='A'):\n",
    "        modified_comment = modified_comment + '$'\n",
    "    else:\n",
    "        modified_comment = modified_comment + comment[i]\n",
    "print(modified_comment)"
   ]
  },
  {
   "cell_type": "markdown",
   "id": "8aeeb30a",
   "metadata": {},
   "source": [
    "###### Question4:Python Program to Count the Number of Vowels in a String"
   ]
  },
  {
   "cell_type": "code",
   "execution_count": null,
   "id": "03e20b59",
   "metadata": {},
   "outputs": [],
   "source": [
    "xyz = input('Enter a comment:')\n",
    "xyz = xyz.lower()\n",
    "vowels = 0\n",
    "for i in xyz:\n",
    "    if i=='a' or i=='e' or i=='i' or i=='o' or i=='u':\n",
    "        vowels = vowels + 1\n",
    "print('No. of vowels:',vowels)"
   ]
  },
  {
   "cell_type": "markdown",
   "id": "5ca05cd5",
   "metadata": {},
   "source": [
    "##### Question5:Input Two Strings and Display the Larger String without Using Built-in Functions"
   ]
  },
  {
   "cell_type": "code",
   "execution_count": null,
   "id": "98f8ffdc",
   "metadata": {},
   "outputs": [],
   "source": [
    "x = input('enter first comment: ')\n",
    "y = input('enter second comment: ')\n",
    "print(x+' '+y)"
   ]
  },
  {
   "cell_type": "markdown",
   "id": "bff1dfd4",
   "metadata": {},
   "source": [
    "##### Question6:Count the number of digits & letter in a string"
   ]
  },
  {
   "cell_type": "code",
   "execution_count": null,
   "id": "a48beef0",
   "metadata": {},
   "outputs": [],
   "source": [
    "digits = ['1','2','3','4','5','6','7','8','9']\n",
    "letters = ['a','b','c','d','e','f','g','h','i','j','k','l','m','n','o','p','q','r','s','t','u','v','w','x','y','z']\n",
    "comment = input('enter a comment:')\n",
    "comment = comment.lower()\n",
    "total_digits = 0\n",
    "total_letters = 0\n",
    "for n in comment:\n",
    "    if n in digits:\n",
    "        total_digits += 1\n",
    "    elif n in letters:\n",
    "        total_letters += 1\n",
    "print('total letters in',comment,'are:' ,total_letters)\n",
    "print('total digits in',comment,'are:' ,total_digits)"
   ]
  },
  {
   "cell_type": "markdown",
   "id": "8216e952",
   "metadata": {},
   "source": [
    "##### Question7:Count Number of Lowercase Characters in a String"
   ]
  },
  {
   "cell_type": "code",
   "execution_count": null,
   "id": "4fb69de5",
   "metadata": {},
   "outputs": [],
   "source": [
    "comment = input('enter a comment:')\n",
    "count=0\n",
    "for i in comment:\n",
    "    if (i.islower()):\n",
    "        count = count+1\n",
    "print('the count of lower case characters are:', count)"
   ]
  },
  {
   "cell_type": "markdown",
   "id": "d6888686",
   "metadata": {},
   "source": [
    "##### Question8:Program to check if a Substring is Present in a Given String"
   ]
  },
  {
   "cell_type": "code",
   "execution_count": null,
   "id": "bf93349d",
   "metadata": {},
   "outputs": [],
   "source": [
    "first_comment = input('enter a comment:')\n",
    "second_comment = input('enter another comment:')\n",
    "x=x.lower()\n",
    "y=y.lower()\n",
    "s=x.split()\n",
    "if y in s:\n",
    "    print('second comment is a substring of first comment')\n",
    "else:\n",
    "    print('second comment is not a substring of first comment')"
   ]
  }
 ],
 "metadata": {
  "kernelspec": {
   "display_name": "Python 3 (ipykernel)",
   "language": "python",
   "name": "python3"
  },
  "language_info": {
   "codemirror_mode": {
    "name": "ipython",
    "version": 3
   },
   "file_extension": ".py",
   "mimetype": "text/x-python",
   "name": "python",
   "nbconvert_exporter": "python",
   "pygments_lexer": "ipython3",
   "version": "3.9.13"
  }
 },
 "nbformat": 4,
 "nbformat_minor": 5
}
