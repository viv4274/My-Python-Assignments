{
 "cells": [
  {
   "cell_type": "code",
   "execution_count": null,
   "id": "c5fd2884",
   "metadata": {},
   "outputs": [],
   "source": [
    "!pip install jsonlib"
   ]
  },
  {
   "cell_type": "code",
   "execution_count": null,
   "id": "d9a6868d",
   "metadata": {},
   "outputs": [],
   "source": []
  },
  {
   "cell_type": "code",
   "execution_count": null,
   "id": "0d96b8bc",
   "metadata": {},
   "outputs": [],
   "source": []
  },
  {
   "cell_type": "code",
   "execution_count": null,
   "id": "8cda4aa0",
   "metadata": {},
   "outputs": [],
   "source": []
  },
  {
   "cell_type": "code",
   "execution_count": null,
   "id": "9c483c26",
   "metadata": {},
   "outputs": [],
   "source": []
  },
  {
   "cell_type": "code",
   "execution_count": null,
   "id": "7a7c793a",
   "metadata": {},
   "outputs": [],
   "source": [
    "#Mo2\n",
    "Write a program to download specific video from YouTube and save it inside computer.\n",
    "Take video link as input from the user."
   ]
  },
  {
   "cell_type": "code",
   "execution_count": null,
   "id": "facaa10e",
   "metadata": {},
   "outputs": [],
   "source": [
    "!pip install pytube"
   ]
  },
  {
   "cell_type": "code",
   "execution_count": null,
   "id": "365f23b9",
   "metadata": {},
   "outputs": [],
   "source": [
    "from pytube import YouTube\n",
    "downloadpath = r\"C:\\Users\\vivek\\YouTube Videos\"\n",
    "link = input(\"Enter the YouTube video URL: \")\n",
    "video = YouTube(link)\n",
    "video = video.streams.first()\n",
    "video.download(downloadpath)\n",
    "print(\"Download is completed successfully\")"
   ]
  },
  {
   "cell_type": "code",
   "execution_count": null,
   "id": "f694e988",
   "metadata": {},
   "outputs": [],
   "source": [
    "#Mo3\n",
    "Write a program to play a specific audio file from the computer when the user enters a number which is a multiple of 5.\n",
    "Take 10 inputs from the user in a sequence. Play the audio file for every number which is a multiple of 5."
   ]
  },
  {
   "cell_type": "code",
   "execution_count": null,
   "id": "ff82689c",
   "metadata": {},
   "outputs": [],
   "source": [
    "!pip install playsound"
   ]
  },
  {
   "cell_type": "code",
   "execution_count": null,
   "id": "7a61ad2f",
   "metadata": {},
   "outputs": [],
   "source": [
    "from playsound import playsound\n",
    "i = 1\n",
    "while i<11:\n",
    "    x = int(input('enter a number: '))\n",
    "    if x%5 == 0:\n",
    "        playsound(r'C:\\Users\\vivek\\Downloads\\file_example_MP3_700KB.mp3')\n",
    "    else:\n",
    "        print(x)\n",
    "    i = i + 1"
   ]
  },
  {
   "cell_type": "code",
   "execution_count": null,
   "id": "b05d49f8",
   "metadata": {},
   "outputs": [],
   "source": [
    "#Mo4\n",
    "Write a program to print the current time and date in a timezone which is taken as input from the user."
   ]
  },
  {
   "cell_type": "code",
   "execution_count": null,
   "id": "4c07aa34",
   "metadata": {},
   "outputs": [],
   "source": [
    "!pip install pytz"
   ]
  },
  {
   "cell_type": "code",
   "execution_count": null,
   "id": "d746d6c4",
   "metadata": {},
   "outputs": [],
   "source": [
    "import pytz\n",
    "for i in pytz.all_timezones:\n",
    "    print(i)"
   ]
  },
  {
   "cell_type": "code",
   "execution_count": null,
   "id": "32624ee9",
   "metadata": {},
   "outputs": [],
   "source": [
    "from datetime import datetime\n",
    "import pytz\n",
    "timezone1 = input('Enter timezone: ')\n",
    "t = pytz.timezone(timezone1)\n",
    "t_IST = datetime.now(t)\n",
    "print(\"Date & Time in IST : \", t_IST.strftime('%d:%m:%Y %H:%M:%S %Z %z'))"
   ]
  },
  {
   "cell_type": "code",
   "execution_count": null,
   "id": "ef2daf39",
   "metadata": {},
   "outputs": [],
   "source": [
    "#Mo5\n",
    "Write a program to tell the week number of a date taken as input from the user.\n",
    "For e.g.: \n",
    "    Input: '13/02/2022'\n",
    "    Output: 6"
   ]
  },
  {
   "cell_type": "code",
   "execution_count": null,
   "id": "71f08f9a",
   "metadata": {},
   "outputs": [],
   "source": [
    "import datetime\n",
    "x = input('enter date in DD/MM/YYYY: ')\n",
    "day,month,year = map(int, x.split('/'))\n",
    "print(day,month,year)\n",
    "weeknum = datetime.date(year,month,day).isocalendar().week\n",
    "print(weeknum)"
   ]
  },
  {
   "cell_type": "code",
   "execution_count": null,
   "id": "5f191124",
   "metadata": {},
   "outputs": [],
   "source": [
    "#Mo6\n",
    "Write a program to send a specific mail to person using gmail.\n",
    "Take mail content from a txt file stored in a computer\n",
    "Take receiver email address as input from the user.\n",
    "Send the email from a set gmail account. (Use dummy account here if needed.)"
   ]
  },
  {
   "cell_type": "code",
   "execution_count": null,
   "id": "f67e51bd",
   "metadata": {},
   "outputs": [],
   "source": [
    "!pip install secure-smtplib"
   ]
  },
  {
   "cell_type": "code",
   "execution_count": null,
   "id": "dbf5d0a5",
   "metadata": {},
   "outputs": [],
   "source": [
    "!pip install ssl"
   ]
  },
  {
   "cell_type": "code",
   "execution_count": null,
   "id": "c0473584",
   "metadata": {},
   "outputs": [],
   "source": [
    "import smtplib, ssl\n",
    "\n",
    "smtp_server = \"smtp.gmail.com\"\n",
    "port = 587  \n",
    "sender_email = \"pradantorpa@gmail.com\"\n",
    "password = input(\"Type your password and press enter: \")\n",
    "context = ssl.create_default_context()\n",
    "server = smtplib.SMTP(smtp_server,port)\n",
    "server.starttls(context=context)\n",
    "server.login(sender_email, password)\n",
    "message = open('python.txt','r').read()\n",
    "receiver_email = input('enter receivers email id: ')\n",
    "server.sendmail(sender_email,receiver_email, message)\n",
    "server.quit() "
   ]
  },
  {
   "cell_type": "code",
   "execution_count": null,
   "id": "02df19e0",
   "metadata": {},
   "outputs": [],
   "source": []
  },
  {
   "cell_type": "code",
   "execution_count": null,
   "id": "b8b575b3",
   "metadata": {},
   "outputs": [],
   "source": []
  }
 ],
 "metadata": {
  "kernelspec": {
   "display_name": "Python 3 (ipykernel)",
   "language": "python",
   "name": "python3"
  },
  "language_info": {
   "codemirror_mode": {
    "name": "ipython",
    "version": 3
   },
   "file_extension": ".py",
   "mimetype": "text/x-python",
   "name": "python",
   "nbconvert_exporter": "python",
   "pygments_lexer": "ipython3",
   "version": "3.9.13"
  }
 },
 "nbformat": 4,
 "nbformat_minor": 5
}
