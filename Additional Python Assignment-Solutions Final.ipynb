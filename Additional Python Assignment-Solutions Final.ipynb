{
 "cells": [
  {
   "cell_type": "markdown",
   "id": "dda2edd6",
   "metadata": {},
   "source": [
    "# Assume Data wherever needed/necessary"
   ]
  },
  {
   "cell_type": "markdown",
   "id": "a1cff0b5",
   "metadata": {},
   "source": [
    "### Loop Statements"
   ]
  },
  {
   "cell_type": "code",
   "execution_count": null,
   "id": "13c1b712",
   "metadata": {},
   "outputs": [],
   "source": [
    "# WAP stands for Write A Program"
   ]
  },
  {
   "cell_type": "code",
   "execution_count": null,
   "id": "b453ccf5",
   "metadata": {},
   "outputs": [],
   "source": [
    "#L1 E\n",
    "WAP to print all elements of a list using a for loop. \n",
    "Take the elements of the list from the user.\n",
    "\n",
    "For e.g. Input: l = [3,'Hi',67,0,12,0,8]\n",
    "        Output: 3\n",
    "                'Hi'\n",
    "                67\n",
    "                0\n",
    "                12\n",
    "                0\n",
    "                8"
   ]
  },
  {
   "cell_type": "code",
   "execution_count": 12,
   "id": "cd2d7ccf",
   "metadata": {},
   "outputs": [],
   "source": [
    "# x = input(\"Mention Anython : \")\n",
    "\n",
    "# print(x)\n",
    "# print(type(x))\n",
    "\n",
    "# if x.isdigit() :\n",
    "#     print(\"s cbbdwejd\")\n",
    "# else : \n",
    "    \n",
    "#     try:\n",
    "#         x = int(x)\n",
    "#         print(\"x\")\n",
    "    \n",
    "\n"
   ]
  },
  {
   "cell_type": "code",
   "execution_count": 11,
   "id": "2b0d6607",
   "metadata": {},
   "outputs": [],
   "source": [
    "# res = eval(\"16 > 10\")\n",
    "# print(type(res))\n",
    "# print(res)"
   ]
  },
  {
   "cell_type": "code",
   "execution_count": null,
   "id": "ee67c7c9",
   "metadata": {},
   "outputs": [],
   "source": []
  },
  {
   "cell_type": "code",
   "execution_count": null,
   "id": "9cf64e16",
   "metadata": {},
   "outputs": [],
   "source": []
  },
  {
   "cell_type": "code",
   "execution_count": null,
   "id": "60b49c68",
   "metadata": {},
   "outputs": [],
   "source": []
  },
  {
   "cell_type": "code",
   "execution_count": null,
   "id": "186a0618",
   "metadata": {},
   "outputs": [],
   "source": []
  },
  {
   "cell_type": "code",
   "execution_count": null,
   "id": "2ce086c0",
   "metadata": {},
   "outputs": [],
   "source": [
    "#L2 M\n",
    "WAP to take inputs from user to make a list. Length of the list has to be taken from the user.\n",
    "Again take one input from user and search it in the list and delete that element, if found.\n",
    "If not found, print \"Element not present\".\n",
    "\n",
    "For e.g. Input: len_list = 5\n",
    "                list = [\"a\", \"b\", \"y\", \"e\", \"p\"]\n",
    "                search_element = \"g\"\n",
    "                    Output: \"Element not found\"\n",
    "                search_element = \"e\"\n",
    "                    Output: [\"a\", \"b\", \"y\", \"p\"]"
   ]
  },
  {
   "cell_type": "code",
   "execution_count": null,
   "id": "d2db298b",
   "metadata": {},
   "outputs": [],
   "source": [
    "#L3 EM\n",
    "Make a grading system for a school based on the marks of the students using the following criteria.\n",
    "Marks 0 - 40 : Grade F\n",
    "     41 - 50 : Grade E\n",
    "     51 - 70 : Grade D\n",
    "     71 - 80 : Grade C\n",
    "     81 - 90 : Grade B\n",
    "     91 - 100: Grade A\n",
    "Continuously take marks as input from the user and print the grade. \n",
    "The user can enter \"Stop\" to stop the loop."
   ]
  },
  {
   "cell_type": "code",
   "execution_count": null,
   "id": "f68750eb",
   "metadata": {},
   "outputs": [],
   "source": [
    "#L4 E\n",
    "WAP to save the cube of all numbers from 1 to a number n in list, \n",
    "where n is taken as input from the user.\n",
    "\n",
    "For e.g. Input: 5\n",
    "        Output: [1, 8, 27, 64, 125]  #Cube of numbers from 1 to 5 where 5 is the input from the user"
   ]
  },
  {
   "cell_type": "code",
   "execution_count": null,
   "id": "8d78752a",
   "metadata": {},
   "outputs": [],
   "source": [
    "#L5 E\n",
    "WAP to print even numbers in a given range in reverse order. Take the range from the user.\n",
    "\n",
    "For e.g. Input: start = 3\n",
    "                End = 14\n",
    "        Output: 14, 12, 10, 8, 6, 4"
   ]
  },
  {
   "cell_type": "code",
   "execution_count": 2,
   "id": "c62ffb0e",
   "metadata": {},
   "outputs": [
    {
     "name": "stdout",
     "output_type": "stream",
     "text": [
      "[88, 26, 46]\n",
      "List in reverse order is  [46, 26, 88]\n"
     ]
    }
   ],
   "source": [
    "list1 = [23,45,67,88,26,13,46]\n",
    "list2 = []\n",
    "\n",
    "for i in range(len(list1)) :\n",
    "    if list1[i] % 2 == 0 :\n",
    "        list2.append(list1[i])\n",
    "\n",
    "print(list2)\n",
    "print(\"List in reverse order is \",list2[ -1: : -1])\n"
   ]
  },
  {
   "cell_type": "code",
   "execution_count": null,
   "id": "cc6f8c3f",
   "metadata": {},
   "outputs": [],
   "source": [
    "#L6 E\n",
    "WAP to print odd numbers in a given range in reverse order.\n",
    "Take the range from the user.\n",
    "\n",
    "For e.g. Input: start = 3\n",
    "                End = 14\n",
    "        Output: 13, 11, 9, 7, 5, 3"
   ]
  },
  {
   "cell_type": "code",
   "execution_count": null,
   "id": "a738736e",
   "metadata": {},
   "outputs": [],
   "source": [
    "#L7 E\n",
    "WAP to print multiplication table of a number taken as input from the user.\n",
    "\n",
    "For e.g. Input: 5\n",
    "        Output: 5*1 = 5\n",
    "                5*2 = 10\n",
    "                .\n",
    "                .\n",
    "                .\n",
    "                5*10 = 50"
   ]
  },
  {
   "cell_type": "code",
   "execution_count": 3,
   "id": "c769d91d",
   "metadata": {},
   "outputs": [
    {
     "name": "stdout",
     "output_type": "stream",
     "text": [
      "Enter a Number : 5\n",
      "5 * 1 = 5\n",
      "5 * 2 = 10\n",
      "5 * 3 = 15\n",
      "5 * 4 = 20\n",
      "5 * 5 = 25\n",
      "5 * 6 = 30\n",
      "5 * 7 = 35\n",
      "5 * 8 = 40\n",
      "5 * 9 = 45\n",
      "5 * 10 = 50\n"
     ]
    }
   ],
   "source": [
    "n = int(input(\"Enter a Number : \"))\n",
    "\n",
    "for i in range(1, 11) :\n",
    "    print( n, \"*\", i , \"=\", n*i)\n"
   ]
  },
  {
   "cell_type": "code",
   "execution_count": 7,
   "id": "baea9400",
   "metadata": {},
   "outputs": [
    {
     "name": "stdout",
     "output_type": "stream",
     "text": [
      "*\n",
      "**\n",
      "***\n",
      "****\n"
     ]
    }
   ],
   "source": [
    "# *\n",
    "# **\n",
    "# ***\n",
    "# ****\n",
    "\n",
    "for i in range(1, 5) : \n",
    "    print(\"*\"  * i)\n"
   ]
  },
  {
   "cell_type": "code",
   "execution_count": 4,
   "id": "20a476ac",
   "metadata": {},
   "outputs": [
    {
     "name": "stdout",
     "output_type": "stream",
     "text": [
      "***\n"
     ]
    }
   ],
   "source": [
    "print(\"*\" * 3)"
   ]
  },
  {
   "cell_type": "code",
   "execution_count": 9,
   "id": "c2b4849f",
   "metadata": {},
   "outputs": [
    {
     "name": "stdout",
     "output_type": "stream",
     "text": [
      "enter elements5\n",
      "*    \n",
      "**   \n",
      "***  \n",
      "**** \n"
     ]
    }
   ],
   "source": [
    "n= int(input('enter elements'))\n",
    "for i in range(1, n):\n",
    "    print((\"*\"*i).ljust(5))\n"
   ]
  },
  {
   "cell_type": "code",
   "execution_count": 12,
   "id": "80da155e",
   "metadata": {},
   "outputs": [
    {
     "name": "stdout",
     "output_type": "stream",
     "text": [
      "1\n",
      "22\n",
      "333\n",
      "4444\n",
      "55555\n"
     ]
    }
   ],
   "source": [
    "# 1\n",
    "# 22\n",
    "# 333\n",
    "# 4444\n",
    "# 55555\n",
    "\n",
    "for i in range(1, 6) : \n",
    "    print(str(i) * i)\n",
    "\n"
   ]
  },
  {
   "cell_type": "code",
   "execution_count": 17,
   "id": "f569a6c8",
   "metadata": {},
   "outputs": [
    {
     "name": "stdout",
     "output_type": "stream",
     "text": [
      "p\n",
      "yy\n",
      "ttt\n",
      "hhhh\n",
      "ooooo\n",
      "nnnnnn\n"
     ]
    }
   ],
   "source": [
    "# word = 'python'\n",
    "# p\n",
    "# yy\n",
    "# ttt\n",
    "# hhhh\n",
    "# ooooo\n",
    "# nnnnnn\n",
    "\n",
    "word = 'python'\n",
    "for char in range( len(word) ) : \n",
    "    print(word[char] * (char + 1) )\n",
    "\n",
    "\n"
   ]
  },
  {
   "cell_type": "code",
   "execution_count": null,
   "id": "1e559045",
   "metadata": {},
   "outputs": [],
   "source": []
  },
  {
   "cell_type": "code",
   "execution_count": null,
   "id": "649d529e",
   "metadata": {},
   "outputs": [],
   "source": []
  },
  {
   "cell_type": "code",
   "execution_count": null,
   "id": "523530f0",
   "metadata": {},
   "outputs": [],
   "source": [
    "#L8 E\n",
    "WAP to print the following pattern.\n",
    "\n",
    "1\n",
    "1 2\n",
    "1 2 3\n",
    "1 2 3 4"
   ]
  },
  {
   "cell_type": "code",
   "execution_count": 22,
   "id": "bcbb7f42",
   "metadata": {},
   "outputs": [
    {
     "name": "stdout",
     "output_type": "stream",
     "text": [
      "1 = i\n",
      "1 = j\n",
      "--------------------\n",
      "2 = i\n",
      "1 = j\n",
      "2 = j\n",
      "--------------------\n",
      "3 = i\n",
      "1 = j\n",
      "2 = j\n",
      "3 = j\n",
      "--------------------\n",
      "4 = i\n",
      "1 = j\n",
      "2 = j\n",
      "3 = j\n",
      "4 = j\n",
      "--------------------\n"
     ]
    }
   ],
   "source": [
    "for i in range(1, 5) : \n",
    "    print(f\"{i} = i\")\n",
    "    for j in range(1, i + 1) : \n",
    "        print(f\"{j} = j\")\n",
    "    print(\"--\" * 10)\n",
    "        "
   ]
  },
  {
   "cell_type": "code",
   "execution_count": 24,
   "id": "c9b82a09",
   "metadata": {},
   "outputs": [
    {
     "name": "stdout",
     "output_type": "stream",
     "text": [
      "1 \n",
      "1 2 \n",
      "1 2 3 \n",
      "1 2 3 4 \n"
     ]
    }
   ],
   "source": [
    "for i in range(1, 5) : \n",
    "#     print(f\"{i} = i\")\n",
    "    for j in range(1, i + 1) : \n",
    "        print(j, end = \" \")\n",
    "#     print(\"--\" * 10)\n",
    "    print()\n",
    "        "
   ]
  },
  {
   "cell_type": "code",
   "execution_count": null,
   "id": "ba51e976",
   "metadata": {},
   "outputs": [],
   "source": []
  },
  {
   "cell_type": "code",
   "execution_count": null,
   "id": "94152fa2",
   "metadata": {},
   "outputs": [],
   "source": []
  },
  {
   "cell_type": "code",
   "execution_count": null,
   "id": "f1f6a0e5",
   "metadata": {},
   "outputs": [],
   "source": [
    "#L9 H\n",
    "Write a program to calculate the sum of series up to n terms for a digit d. n & d are taken as input from the user.\n",
    "\n",
    "For example:\n",
    "    Input: n = 5, d = 2\n",
    "    Logic: 2 + 22 + 222 + 2222 + 22222 \n",
    "    Output: 24690"
   ]
  },
  {
   "cell_type": "code",
   "execution_count": 32,
   "id": "91ea74f2",
   "metadata": {},
   "outputs": [
    {
     "name": "stdout",
     "output_type": "stream",
     "text": [
      "Enter Upper Range : 5\n",
      "Number between 0 - 9 : 2\n",
      "24690\n",
      " 2 + 22 + 222 + 2222 + 22222\n"
     ]
    }
   ],
   "source": [
    "n = int(input(\"Enter Upper Range : \"))\n",
    "d = int(input('Number between 0 - 9 : '))\n",
    "\n",
    "pattern = \"\"\n",
    "totalSum = 0\n",
    "\n",
    "for i in range(1, n + 1 ) : \n",
    "    requiredNumber = str(d) * i\n",
    "    pattern = pattern + \" + \" + requiredNumber\n",
    "#     print(\"requiredNumber = \" , requiredNumber)\n",
    "    totalSum += int(requiredNumber)\n",
    "    \n",
    "print(totalSum)\n",
    "print(pattern[ 2: ])\n",
    "\n"
   ]
  },
  {
   "cell_type": "code",
   "execution_count": null,
   "id": "d7bade0b",
   "metadata": {},
   "outputs": [],
   "source": []
  },
  {
   "cell_type": "code",
   "execution_count": null,
   "id": "73894bbb",
   "metadata": {},
   "outputs": [],
   "source": [
    "#L10 M\n",
    "WAP that keeps on accepting numbers from the user until the user enters Zero(0) as input.\n",
    "Display the sum and average of all the numbers.\n",
    "\n",
    "For example:\n",
    "    Input: 3, 6, 8, 2, 5, Stop\n",
    "    Output: Sum = 24\n",
    "            Average = 4.8"
   ]
  },
  {
   "cell_type": "code",
   "execution_count": null,
   "id": "85e86891",
   "metadata": {},
   "outputs": [],
   "source": [
    "#L11 E\n",
    "Accept n numbers from the user and display their average. n is input from the user.\n",
    "\n",
    "For example:\n",
    "    Input: n = 5\n",
    "        Numbers = 3, 6, 2, 9, 0\n",
    "    Output: Average = 4.0"
   ]
  },
  {
   "cell_type": "code",
   "execution_count": null,
   "id": "5e4962f2",
   "metadata": {},
   "outputs": [],
   "source": []
  },
  {
   "cell_type": "code",
   "execution_count": 33,
   "id": "c1884686",
   "metadata": {},
   "outputs": [
    {
     "name": "stdout",
     "output_type": "stream",
     "text": [
      "Mention Number : 10\n",
      "Mention Number : 235\n",
      "Mention Number : 35\n",
      "Mention Number : -54\n",
      "Mention Number : 14\n",
      "Mention Number : 0\n",
      "Sum = 240, Average = 48.0\n"
     ]
    }
   ],
   "source": [
    "counter = 0  # to count the number of elements simultaneouely\n",
    "totalSum = 0\n",
    "average = 0\n",
    "while True : \n",
    "    \n",
    "    number = int(input(\"Mention Number : \"))\n",
    "    \n",
    "    if number == 0 : \n",
    "        \n",
    "        print(f\"Sum = {totalSum}, Average = {average}\")\n",
    "        break\n",
    "    \n",
    "    totalSum += number\n",
    "    counter += 1\n",
    "    average = (totalSum / (counter ) )"
   ]
  },
  {
   "cell_type": "code",
   "execution_count": null,
   "id": "26b2649e",
   "metadata": {},
   "outputs": [],
   "source": []
  },
  {
   "cell_type": "markdown",
   "id": "d7e91dcc",
   "metadata": {},
   "source": [
    "### String Questions"
   ]
  },
  {
   "cell_type": "code",
   "execution_count": null,
   "id": "4f8bed7e",
   "metadata": {},
   "outputs": [],
   "source": [
    "#S1 E\n",
    "Write a Python program to count the number of each of the characters (character frequency) \n",
    "   in a string input by the user. Ignore the case.\n",
    "   For example: Input: \"Python is great\"\n",
    "\t\tOutput: P = 1, y = 1, t = 2, and so on..."
   ]
  },
  {
   "cell_type": "code",
   "execution_count": 16,
   "id": "17e89583",
   "metadata": {},
   "outputs": [
    {
     "name": "stdout",
     "output_type": "stream",
     "text": [
      "i = P, Count = 1\n",
      "i = y, Count = 1\n",
      "i = t, Count = 2\n",
      "i = h, Count = 1\n",
      "i = o, Count = 1\n",
      "i = n, Count = 1\n",
      "i =  , Count = 2\n",
      "i = i, Count = 1\n",
      "i = s, Count = 1\n",
      "i =  , Count = 2\n",
      "i = g, Count = 1\n",
      "i = r, Count = 1\n",
      "i = e, Count = 1\n",
      "i = a, Count = 1\n",
      "i = t, Count = 2\n",
      "[]\n",
      "[]\n"
     ]
    }
   ],
   "source": [
    "Input =  \"Python is great\"\n",
    "\n",
    "output= []\n",
    "for i in Input : \n",
    "    print(f\"i = {i}, Count = {Input.count(i)}\")\n",
    "    output.append((i, Input.count(i)))\n",
    "\n",
    "print(output)\n",
    "\n",
    "output = list(set(output))\n",
    "print(output)\n"
   ]
  },
  {
   "cell_type": "code",
   "execution_count": 21,
   "id": "2936a6e1",
   "metadata": {},
   "outputs": [
    {
     "name": "stdout",
     "output_type": "stream",
     "text": [
      "enter the stringPython is great\n",
      "P 1\n",
      "y 1\n",
      "t 2\n",
      "h 1\n",
      "o 1\n",
      "n 1\n",
      "i 1\n",
      "s 1\n",
      "g 1\n",
      "r 1\n",
      "e 1\n",
      "a 1\n"
     ]
    }
   ],
   "source": [
    "# * Cinthya\n",
    "\n",
    "s=input(\"enter the string\")\n",
    "\n",
    "count=0\n",
    "for i in range(len(s)):\n",
    "    count=0\n",
    "    for j in range(len(s)):\n",
    "        if s[i]==s[j]:\n",
    "            count=count+1\n",
    "    if(s[i]!=' '):\n",
    "        print(s[i],count)        \n",
    "        s=s.replace(s[i],' ')\n"
   ]
  },
  {
   "cell_type": "code",
   "execution_count": 18,
   "id": "6c245850",
   "metadata": {},
   "outputs": [
    {
     "name": "stdout",
     "output_type": "stream",
     "text": [
      "[('P', 1), ('y', 1), ('t', 2), ('h', 1), ('o', 1), ('n', 1), (' ', 2), ('i', 1), ('s', 1), (' ', 2), ('g', 1), ('r', 1), ('e', 1), ('a', 1), ('t', 2)]\n"
     ]
    },
    {
     "ename": "TypeError",
     "evalue": "'tuple' object is not callable",
     "output_type": "error",
     "traceback": [
      "\u001b[1;31m---------------------------------------------------------------------------\u001b[0m",
      "\u001b[1;31mTypeError\u001b[0m                                 Traceback (most recent call last)",
      "\u001b[1;32m<ipython-input-18-9c2d92e975ae>\u001b[0m in \u001b[0;36m<module>\u001b[1;34m\u001b[0m\n\u001b[0;32m      9\u001b[0m \u001b[1;33m\u001b[0m\u001b[0m\n\u001b[0;32m     10\u001b[0m \u001b[0moutput\u001b[0m \u001b[1;33m=\u001b[0m \u001b[0mlist\u001b[0m\u001b[1;33m(\u001b[0m\u001b[0mset\u001b[0m\u001b[1;33m(\u001b[0m\u001b[0moutput\u001b[0m\u001b[1;33m)\u001b[0m\u001b[1;33m)\u001b[0m\u001b[1;33m\u001b[0m\u001b[1;33m\u001b[0m\u001b[0m\n\u001b[1;32m---> 11\u001b[1;33m \u001b[0moutput\u001b[0m\u001b[1;33m.\u001b[0m\u001b[0msort\u001b[0m\u001b[1;33m(\u001b[0m\u001b[0mkey\u001b[0m \u001b[1;33m=\u001b[0m \u001b[0moutput\u001b[0m\u001b[1;33m[\u001b[0m\u001b[1;36m1\u001b[0m\u001b[1;33m]\u001b[0m\u001b[1;33m)\u001b[0m\u001b[1;33m\u001b[0m\u001b[1;33m\u001b[0m\u001b[0m\n\u001b[0m\u001b[0;32m     12\u001b[0m \u001b[0mprint\u001b[0m\u001b[1;33m(\u001b[0m\u001b[0moutput\u001b[0m\u001b[1;33m)\u001b[0m\u001b[1;33m\u001b[0m\u001b[1;33m\u001b[0m\u001b[0m\n",
      "\u001b[1;31mTypeError\u001b[0m: 'tuple' object is not callable"
     ]
    }
   ],
   "source": [
    "Input =  \"Python is great\"\n",
    "\n",
    "output= []\n",
    "for i in Input : \n",
    "#     print(f\"i = {i}, Count = {Input.count(i)}\")\n",
    "    output.append((i, Input.count(i)))\n",
    "\n",
    "print(output)\n",
    "\n",
    "output = list(set(output))\n",
    "# output.sort(key = output[1])\n",
    "print(output)\n"
   ]
  },
  {
   "cell_type": "code",
   "execution_count": null,
   "id": "b560166c",
   "metadata": {},
   "outputs": [],
   "source": [
    "#S2 M\n",
    "Write a Python program to find the digits which are absent in a given mobile number.\n",
    "\n",
    "   For example: Input : 9354328855\n",
    "                Output: 0167"
   ]
  },
  {
   "cell_type": "code",
   "execution_count": 20,
   "id": "095796a3",
   "metadata": {},
   "outputs": [
    {
     "name": "stdout",
     "output_type": "stream",
     "text": [
      "Mention Mobile Number : 7845120254\n"
     ]
    },
    {
     "data": {
      "text/plain": [
       "'369'"
      ]
     },
     "execution_count": 20,
     "metadata": {},
     "output_type": "execute_result"
    }
   ],
   "source": [
    "mobile = input(\"Mention Mobile Number : \")\n",
    "\n",
    "resultant = \"\"\n",
    "\n",
    "for i in range(0, 10) : # 0 1 2 3 4 5 6 7 8 9\n",
    "    if str(i) not in mobile : \n",
    "        resultant = resultant + str(i)\n",
    "\n",
    "resultant"
   ]
  },
  {
   "cell_type": "code",
   "execution_count": null,
   "id": "e584392f",
   "metadata": {},
   "outputs": [],
   "source": [
    "#S3 M\n",
    "WAP in python to find average of n numbers taken as input from the user dynamically."
   ]
  },
  {
   "cell_type": "code",
   "execution_count": null,
   "id": "b1faeb99",
   "metadata": {},
   "outputs": [],
   "source": []
  },
  {
   "cell_type": "code",
   "execution_count": null,
   "id": "fae25bb4",
   "metadata": {},
   "outputs": [],
   "source": [
    "#S4 E\n",
    "WAP in python that accepts a hyphen-separated sequence of \n",
    "words as input and prints the words in a hyphen-separated \n",
    "sequence after sorting them alphabetically.\n",
    "\n",
    "For e.g. Input: \"p-y-t-h-o-n\"\n",
    "        Output: ['h', 'n','o', 'p', 't', 'y']"
   ]
  },
  {
   "cell_type": "code",
   "execution_count": 23,
   "id": "d447c81c",
   "metadata": {},
   "outputs": [
    {
     "name": "stdout",
     "output_type": "stream",
     "text": [
      "['p', 'y', 't', 'h', 'o', 'n']\n",
      "['h', 'n', 'o', 'p', 't', 'y']\n"
     ]
    }
   ],
   "source": [
    "Input = \"p-y-t-h-o-n\"\n",
    "\n",
    "res = Input.split(\"-\")\n",
    "print(res)\n",
    "\n",
    "res.sort()\n",
    "print(res)\n",
    "\n"
   ]
  },
  {
   "cell_type": "code",
   "execution_count": null,
   "id": "b0bdf7ff",
   "metadata": {},
   "outputs": [],
   "source": [
    "# Anagrams ???\n",
    "\n",
    "# Given any two words, find out weather they are anagram or not ???\n",
    "\n",
    "tea, eat\n",
    "top pot\n",
    "\n",
    "NOt Anagram\n",
    "swim wins\n",
    "eats eat\n"
   ]
  },
  {
   "cell_type": "code",
   "execution_count": 33,
   "id": "5414d42e",
   "metadata": {},
   "outputs": [
    {
     "name": "stdout",
     "output_type": "stream",
     "text": [
      "Enter the characters : tea\n",
      "Enter the characters : eevfe\n",
      "['a', 'e', 't']\n",
      "['e', 'e', 'e', 'f', 'v']\n",
      "Not a Anagram\n"
     ]
    }
   ],
   "source": [
    "ipstring1=input(\"Enter the characters : \")\n",
    "ipstring2=input(\"Enter the characters : \")\n",
    "iplist1=list(ipstring1)  # [t e a]\n",
    "iplist2=list(ipstring2)  # [e a t]\n",
    "iplist1.sort()  # a e t\n",
    "iplist2.sort() # a e t\n",
    "\n",
    "print(iplist1)\n",
    "print(iplist2)\n",
    "\n",
    "if iplist1 == iplist2:\n",
    "    print(\"it is anagram\")\n",
    "else : \n",
    "    print(\"Not a Anagram\")"
   ]
  },
  {
   "cell_type": "code",
   "execution_count": 36,
   "id": "b7bdfeed",
   "metadata": {},
   "outputs": [
    {
     "name": "stdout",
     "output_type": "stream",
     "text": [
      "Enter the characters : eat\n",
      "Enter the characters : tea\n",
      "['a', 'e', 't']\n",
      "['a', 'e', 't']\n",
      "it is anagram\n"
     ]
    }
   ],
   "source": [
    "ipstring1=input(\"Enter the characters : \")\n",
    "ipstring2=input(\"Enter the characters : \")\n",
    "print(  sorted( ipstring1) )\n",
    "print(  sorted( ipstring2) )\n",
    "\n",
    "if sorted( ipstring1 ) == sorted( ipstring2 ):\n",
    "    print(\"it is anagram\")\n",
    "else : \n",
    "    print(\"Not a Anagram\")"
   ]
  },
  {
   "cell_type": "code",
   "execution_count": null,
   "id": "a374530e",
   "metadata": {},
   "outputs": [],
   "source": []
  },
  {
   "cell_type": "code",
   "execution_count": null,
   "id": "b45efd46",
   "metadata": {},
   "outputs": [],
   "source": []
  },
  {
   "cell_type": "code",
   "execution_count": null,
   "id": "e4b835e6",
   "metadata": {},
   "outputs": [],
   "source": [
    "#S5 MH\n",
    "WAP in python to find the number of vowels, consonants, digits, special \n",
    "characters and white space characters in a string input by the user.\n",
    "\n",
    "Example: Input: \"Qwerty@123\"\n",
    "\toutput: v = 1, c = 5, d = 3, w = 0, s = 1"
   ]
  },
  {
   "cell_type": "code",
   "execution_count": 39,
   "id": "74377ba2",
   "metadata": {},
   "outputs": [
    {
     "name": "stdout",
     "output_type": "stream",
     "text": [
      "Vowels:  1\n",
      "Consonants:  5\n",
      "Digits:  3\n",
      "White spaces:  0\n",
      "Symbols :  1\n"
     ]
    }
   ],
   "source": [
    "# Input = \"Qwerty@123 p%ython\"\n",
    "Input = \"Qwerty@123\"\n",
    "v, c, d, w, s = 0,0,0,0,0\n",
    "\n",
    "# vowels = [a , e, i, o, r, A, E, I, O, U]\n",
    "\n",
    "for ch in Input : \n",
    "    if ch.isalpha() and ch.upper() in \"AEIOU\" : # A-Z or a-z\n",
    "        v += 1\n",
    "    elif ch.isalpha()  : # a-z or A-Z\n",
    "        c += 1\n",
    "    elif ch.isdigit()  : # 0 - 9\n",
    "        d += 1\n",
    "    elif not(ch.isalnum()) and not(ch.isspace()) :   # does not lies in 0-9 or a-z or A-Z\n",
    "        s += 1\n",
    "    else: \n",
    "        w += 1\n",
    "print(\"Vowels: \", v);\n",
    "print(\"Consonants: \", c);\n",
    "print(\"Digits: \", d);\n",
    "print(\"White spaces: \", w);\n",
    "print(\"Symbols : \", s);"
   ]
  },
  {
   "cell_type": "code",
   "execution_count": null,
   "id": "93090dc8",
   "metadata": {},
   "outputs": [],
   "source": []
  },
  {
   "cell_type": "code",
   "execution_count": null,
   "id": "ba48d042",
   "metadata": {},
   "outputs": [],
   "source": [
    "#S6 MH\n",
    "WAP in python to check the strength of the password input by the user based on the following features.\n",
    "    Length minimum of 8 characters  (+1 Strength)\n",
    "    Combination of upper case & lower case characters (+1 Strength)\n",
    "    Combination of alphabets & digits (+1 Strength)\n",
    "    Use of Special Characters (+1 Strength)\n",
    "    \n",
    "Example: Input: \"Qwerty@123\"\n",
    "        Output: Strength = 4"
   ]
  },
  {
   "cell_type": "code",
   "execution_count": 47,
   "id": "ecb8abb9",
   "metadata": {},
   "outputs": [
    {
     "name": "stdout",
     "output_type": "stream",
     "text": [
      "[True, False, False, False, False]\n",
      "True\n",
      "False\n"
     ]
    }
   ],
   "source": [
    "Input =  \"a@123\"\n",
    "\n",
    "# any char is in lower case\n",
    "print( [char.islower() for char in Input] )\n",
    "\n",
    "print( any([char.islower() for char in Input]) )\n",
    "\n",
    "# all char is in lower case\n",
    "print( all([char.islower() for char in Input]) )\n",
    "\n",
    "# all ~ and\n",
    "# any ~ or"
   ]
  },
  {
   "cell_type": "code",
   "execution_count": 55,
   "id": "a04b6537",
   "metadata": {},
   "outputs": [
    {
     "data": {
      "text/plain": [
       "'!\"#$%&\\'()*+,-./:;<=>?@[\\\\]^_`{|}~'"
      ]
     },
     "execution_count": 55,
     "metadata": {},
     "output_type": "execute_result"
    }
   ],
   "source": [
    "import string\n",
    "\n",
    "splChars = string.punctuation\n",
    "splChars"
   ]
  },
  {
   "cell_type": "code",
   "execution_count": 64,
   "id": "3807c7aa",
   "metadata": {
    "scrolled": true
   },
   "outputs": [
    {
     "name": "stdout",
     "output_type": "stream",
     "text": [
      "Provide password : fyGFGHgf34567/*-\n",
      "4\n",
      "1\n",
      "1\n",
      "1\n",
      "1\n"
     ]
    }
   ],
   "source": [
    "password = input(\"Provide password : \")\n",
    "\n",
    "# splChars = \"!@#$%^&*(){:>}\"\n",
    "import string\n",
    "splChars = string.punctuation\n",
    "\n",
    "strength1 = 0\n",
    "strength2 = 0\n",
    "strength3 = 0\n",
    "strength4 = 0\n",
    "\n",
    "if len( password ) >= 8 : \n",
    "    strength1 += 1\n",
    "if ( any( p.islower() for p in password ) ) and ( any( p.isupper() for p in password ) ) : \n",
    "    strength2 += 1\n",
    "if ( any( p.isdigit() for p in password ) ) : \n",
    "    strength3 += 1\n",
    "if ( any( p for p in password if p in splChars) ) : \n",
    "    strength4 += 1\n",
    "\n",
    "finalStrength = strength1 + strength2 + strength3 + strength4\n",
    "print(finalStrength)\n",
    "\n",
    "print(strength1)\n",
    "print(strength2)\n",
    "print(strength3)\n",
    "print(strength4)\n"
   ]
  },
  {
   "cell_type": "code",
   "execution_count": null,
   "id": "9f92a358",
   "metadata": {},
   "outputs": [],
   "source": []
  },
  {
   "cell_type": "code",
   "execution_count": null,
   "id": "da9a1b54",
   "metadata": {},
   "outputs": [],
   "source": []
  },
  {
   "cell_type": "code",
   "execution_count": null,
   "id": "973cc148",
   "metadata": {},
   "outputs": [],
   "source": [
    "#S7 E\n",
    "WAP in python to compare two strings and tell the user if both of those strings are same or not. \n",
    "Ignore their case.\n",
    "\n",
    "Example: Input String1: \"Hello\"\n",
    "\tInput String2: \"hello\"\n",
    "\tOutput: Strings are same"
   ]
  },
  {
   "cell_type": "code",
   "execution_count": 65,
   "id": "47dd40be",
   "metadata": {},
   "outputs": [
    {
     "name": "stdout",
     "output_type": "stream",
     "text": [
      "enter: HellO\n",
      "enter: hello  \n",
      "stirngs are same\n"
     ]
    }
   ],
   "source": [
    "a=input('enter: ').strip().lower()\n",
    "b=input('enter: ').strip().lower()\n",
    "if a==b:\n",
    "    print('stirngs are same')\n",
    "else:\n",
    "    print('not same')\n"
   ]
  },
  {
   "cell_type": "code",
   "execution_count": null,
   "id": "3529ba02",
   "metadata": {},
   "outputs": [],
   "source": []
  },
  {
   "cell_type": "code",
   "execution_count": null,
   "id": "704fd9a2",
   "metadata": {},
   "outputs": [],
   "source": [
    "#S8 E\n",
    "WAP in python to calculate the number of times a character is repeated in a given string.\n",
    "Take the string and character from the user.\n",
    "\n",
    "Example: Input String: \"Neil Nitin Mukesh\"\n",
    "        Input Character: \"e\"\n",
    "        Output: 2"
   ]
  },
  {
   "cell_type": "code",
   "execution_count": null,
   "id": "69af1d4d",
   "metadata": {},
   "outputs": [],
   "source": []
  },
  {
   "cell_type": "code",
   "execution_count": null,
   "id": "2fcb5c67",
   "metadata": {},
   "outputs": [],
   "source": []
  },
  {
   "cell_type": "code",
   "execution_count": null,
   "id": "311ded7a",
   "metadata": {},
   "outputs": [],
   "source": [
    "#S9 E\n",
    "WAP in python which accepts string from the user and displays only those characters/elements which are present at an even index.\n",
    "\n",
    "Example: \n",
    "    Input: \"Python\"\n",
    "    Output: Pto"
   ]
  },
  {
   "cell_type": "code",
   "execution_count": null,
   "id": "0b54bfe9",
   "metadata": {},
   "outputs": [],
   "source": []
  },
  {
   "cell_type": "code",
   "execution_count": null,
   "id": "ca357074",
   "metadata": {},
   "outputs": [],
   "source": []
  },
  {
   "cell_type": "code",
   "execution_count": null,
   "id": "e0e5ef99",
   "metadata": {},
   "outputs": [],
   "source": [
    "#S10 E\n",
    "WAP in python to capitalize the first letter of the First Name and Surname where whole name is taken as input from the user.\n",
    "\n",
    "Example: Input: \"first last\" or \"FIRST LAST\" or \"first lAst\" i.e. Input can be in any case.\n",
    "        Output: \"First Last\""
   ]
  },
  {
   "cell_type": "code",
   "execution_count": null,
   "id": "49d4dd5b",
   "metadata": {},
   "outputs": [],
   "source": []
  },
  {
   "cell_type": "code",
   "execution_count": null,
   "id": "bb74f30b",
   "metadata": {},
   "outputs": [],
   "source": []
  },
  {
   "cell_type": "code",
   "execution_count": null,
   "id": "ef8c920f",
   "metadata": {},
   "outputs": [],
   "source": [
    "#S11 EM\n",
    "Write a Python program that accepts a comma separated sequence of words as input and \n",
    "prints the unique words in sorted form (alphanumerically).\n",
    "\n",
    "\tSample Words : red, white, black, red, green    \n",
    "\tExpected Result : black, green, red, red, white"
   ]
  },
  {
   "cell_type": "code",
   "execution_count": 66,
   "id": "f6d0f669",
   "metadata": {},
   "outputs": [
    {
     "name": "stdout",
     "output_type": "stream",
     "text": [
      "enter comma seperator accepted seq of words: red, white, black, red, green\n",
      " black, green, red, white,red\n"
     ]
    }
   ],
   "source": [
    "a=input('enter comma seperator accepted seq of words: ')\n",
    "a=a.split(',')\n",
    "\n",
    "# strip action required on all the words inside list\n",
    "\n",
    "b=sorted(a)\n",
    "c=','.join(b)\n",
    "print(c)\n"
   ]
  },
  {
   "cell_type": "code",
   "execution_count": 70,
   "id": "2a63c6b9",
   "metadata": {},
   "outputs": [
    {
     "name": "stdout",
     "output_type": "stream",
     "text": [
      "Please enter a few words separated by commas: red, white, black, red, green\n",
      "[' black', ' green', ' red', ' white', 'red']\n",
      " black,  green,  red,  white, red\n"
     ]
    }
   ],
   "source": [
    "userInput = input(\"Please enter a few words separated by commas: \")\n",
    "inputList = userInput.split(sep = \",\")\n",
    "# print(inputList)\n",
    "\n",
    "sortedList = sorted(inputList)\n",
    "print(sortedList)\n",
    "text = ', '.join(sortedList)\n",
    "print(text)\n"
   ]
  },
  {
   "cell_type": "code",
   "execution_count": null,
   "id": "6660fc4c",
   "metadata": {},
   "outputs": [],
   "source": []
  },
  {
   "cell_type": "code",
   "execution_count": null,
   "id": "47a9cfb1",
   "metadata": {},
   "outputs": [],
   "source": []
  },
  {
   "cell_type": "code",
   "execution_count": null,
   "id": "79bf11cd",
   "metadata": {},
   "outputs": [],
   "source": []
  },
  {
   "cell_type": "code",
   "execution_count": null,
   "id": "721a1e16",
   "metadata": {},
   "outputs": [],
   "source": []
  },
  {
   "cell_type": "code",
   "execution_count": null,
   "id": "4a73158d",
   "metadata": {},
   "outputs": [],
   "source": [
    "#S12 MH\n",
    "Write a Python program to count repeated characters in a string.\n",
    "\n",
    "\tSample string: 'thequickbrownfoxjumpsoverthelazydog'\n",
    "\tExpected output :\n",
    "\t\t\to 4\n",
    "\t\t\te 3\n",
    "\t\t\tu 2\n",
    "\t\t\th 2\n",
    "\t\t\tr 2\n",
    "\t\t\tt 2"
   ]
  },
  {
   "cell_type": "code",
   "execution_count": 74,
   "id": "7d5072c0",
   "metadata": {},
   "outputs": [
    {
     "name": "stdout",
     "output_type": "stream",
     "text": [
      "Enter a string-thequickbrownfoxjumpsoverthelazydog\n",
      "t = 2\n",
      "h = 2\n",
      "e = 3\n",
      "u = 2\n",
      "r = 2\n",
      "o = 4\n"
     ]
    }
   ],
   "source": [
    "A=input(\"Enter a string-\")\n",
    "for i in range(len(A)):\n",
    "    B=A[0:i:1]\n",
    "    if str(A[i]) not in B:\n",
    "        if A.count(str(A[i]))>1:\n",
    "            print(f\"{A[i]} = {A.count(str(A[i]))}\")\n"
   ]
  },
  {
   "cell_type": "code",
   "execution_count": 77,
   "id": "1413192a",
   "metadata": {},
   "outputs": [
    {
     "name": "stdout",
     "output_type": "stream",
     "text": [
      "[('t', 2), ('h', 2), ('e', 3), ('u', 2), ('r', 2), ('o', 4), ('o', 4), ('u', 2), ('o', 4), ('e', 3), ('r', 2), ('t', 2), ('h', 2), ('e', 3), ('o', 4)]\n",
      "[('h', 2), ('r', 2), ('o', 4), ('e', 3), ('u', 2), ('t', 2)]\n"
     ]
    }
   ],
   "source": [
    "stringName =  'thequickbrownfoxjumpsoverthelazydog'\n",
    "\n",
    "listName = []\n",
    "for each in stringName : \n",
    "#     print(each)\n",
    "    c = stringName.count(each)\n",
    "    if c > 1 : \n",
    "        listName.append( (each, c) )\n",
    "print(listName)\n",
    "\n",
    "listName = list( set( listName ) )\n",
    "\n",
    "print(listName)\n"
   ]
  },
  {
   "cell_type": "code",
   "execution_count": null,
   "id": "09d88ecf",
   "metadata": {},
   "outputs": [],
   "source": []
  },
  {
   "cell_type": "code",
   "execution_count": null,
   "id": "c34d95d2",
   "metadata": {},
   "outputs": [],
   "source": []
  },
  {
   "cell_type": "code",
   "execution_count": null,
   "id": "96d2be0d",
   "metadata": {},
   "outputs": [],
   "source": []
  },
  {
   "cell_type": "markdown",
   "id": "39ce03ea",
   "metadata": {},
   "source": [
    "### List Questions"
   ]
  },
  {
   "cell_type": "code",
   "execution_count": null,
   "id": "c9de2045",
   "metadata": {},
   "outputs": [],
   "source": [
    "#Li1 M\n",
    "WAP to remove empty strings from the list of strings. Take list as input from the user.\n",
    "\n",
    "For example: Input: [\"My\", \"name\", \"\", \"is\", \"\", \"Alankrita\", \"\", \".\"]\n",
    "            Output: [\"My\", \"name\", \"is\", \"Alankrita\", \".\"]"
   ]
  },
  {
   "cell_type": "code",
   "execution_count": 78,
   "id": "8b1c477b",
   "metadata": {},
   "outputs": [
    {
     "name": "stdout",
     "output_type": "stream",
     "text": [
      "Please enter a word: bswvgdghw\n",
      "Please enter a word:     \n",
      "Please enter a word: b shjkwnd nfw\n",
      "Please enter a word: mn dvvjhknbnvw\n",
      "Please enter a word: 6984232 212 dwwe2vf\n",
      "Please enter a word:     hj\n",
      "Please enter a word: \n",
      "['bswvgdghw', 'b shjkwnd nfw', 'mn dvvjhknbnvw', '6984232 212 dwwe2vf', '    hj']\n"
     ]
    }
   ],
   "source": [
    "userList = []\n",
    "num_inputs = 7\n",
    "\n",
    "while num_inputs > 0:\n",
    "    userInput = input(\"Please enter a word: \")\n",
    "    userList.append(userInput)\n",
    "    num_inputs -= 1\n",
    "\n",
    "for i in userList:\n",
    "    if i.isspace() or i == \"\":\n",
    "        userList.remove(i)\n",
    "        \n",
    "print(userList)\n",
    "\n"
   ]
  },
  {
   "cell_type": "code",
   "execution_count": null,
   "id": "5e982ac0",
   "metadata": {},
   "outputs": [],
   "source": []
  },
  {
   "cell_type": "code",
   "execution_count": null,
   "id": "01aa1b2b",
   "metadata": {},
   "outputs": [],
   "source": [
    "#Li2 H\n",
    "WAP to make a list of all the characters starting from character 'A' to input charaacter from the user.\n",
    "\n",
    "For e.g. Input: 'H'\n",
    "        Output: [\"A\", \"B\", \"C\", \"D\", \"E\", \"F\", \"G\", \"H\"]"
   ]
  },
  {
   "cell_type": "code",
   "execution_count": 81,
   "id": "c6a11883",
   "metadata": {},
   "outputs": [
    {
     "name": "stdout",
     "output_type": "stream",
     "text": [
      "Enter a character-   hb\n"
     ]
    },
    {
     "ename": "ValueError",
     "evalue": "'HB' is not in list",
     "output_type": "error",
     "traceback": [
      "\u001b[1;31m---------------------------------------------------------------------------\u001b[0m",
      "\u001b[1;31mValueError\u001b[0m                                Traceback (most recent call last)",
      "\u001b[1;32m<ipython-input-81-e3c81b9e9e4f>\u001b[0m in \u001b[0;36m<module>\u001b[1;34m\u001b[0m\n\u001b[0;32m      1\u001b[0m \u001b[0mA\u001b[0m \u001b[1;33m=\u001b[0m \u001b[1;33m[\u001b[0m\u001b[1;34m\"A\"\u001b[0m\u001b[1;33m,\u001b[0m\u001b[1;34m\"B\"\u001b[0m\u001b[1;33m,\u001b[0m\u001b[1;34m\"C\"\u001b[0m\u001b[1;33m,\u001b[0m\u001b[1;34m\"D\"\u001b[0m\u001b[1;33m,\u001b[0m\u001b[1;34m\"E\"\u001b[0m\u001b[1;33m,\u001b[0m\u001b[1;34m\"F\"\u001b[0m\u001b[1;33m,\u001b[0m\u001b[1;34m\"G\"\u001b[0m\u001b[1;33m,\u001b[0m\u001b[1;34m\"H\"\u001b[0m\u001b[1;33m,\u001b[0m\u001b[1;34m\"I\"\u001b[0m\u001b[1;33m,\u001b[0m\u001b[1;34m\"J\"\u001b[0m\u001b[1;33m,\u001b[0m\u001b[1;34m\"K\"\u001b[0m\u001b[1;33m,\u001b[0m\u001b[1;34m\"L\"\u001b[0m\u001b[1;33m,\u001b[0m\u001b[1;34m\"M\"\u001b[0m\u001b[1;33m,\u001b[0m\u001b[1;34m\"N\"\u001b[0m\u001b[1;33m,\u001b[0m\u001b[1;34m\"O\"\u001b[0m\u001b[1;33m,\u001b[0m\u001b[1;34m\"P\"\u001b[0m\u001b[1;33m,\u001b[0m\u001b[1;34m\"Q\"\u001b[0m\u001b[1;33m,\u001b[0m\u001b[1;34m\"R\"\u001b[0m\u001b[1;33m,\u001b[0m\u001b[1;34m\"S\"\u001b[0m\u001b[1;33m,\u001b[0m\u001b[1;34m\"T\"\u001b[0m\u001b[1;33m,\u001b[0m\u001b[1;34m\"U\"\u001b[0m\u001b[1;33m,\u001b[0m\u001b[1;34m\"V\"\u001b[0m\u001b[1;33m,\u001b[0m\u001b[1;34m\"W\"\u001b[0m\u001b[1;33m,\u001b[0m\u001b[1;34m\"X\"\u001b[0m\u001b[1;33m,\u001b[0m\u001b[1;34m\"Y\"\u001b[0m\u001b[1;33m,\u001b[0m\u001b[1;34m\"Z\"\u001b[0m\u001b[1;33m]\u001b[0m\u001b[1;33m\u001b[0m\u001b[1;33m\u001b[0m\u001b[0m\n\u001b[0;32m      2\u001b[0m \u001b[0mB\u001b[0m \u001b[1;33m=\u001b[0m \u001b[0minput\u001b[0m\u001b[1;33m(\u001b[0m\u001b[1;34m\"Enter a character- \"\u001b[0m\u001b[1;33m)\u001b[0m  \u001b[1;31m# z\u001b[0m\u001b[1;33m\u001b[0m\u001b[1;33m\u001b[0m\u001b[0m\n\u001b[1;32m----> 3\u001b[1;33m \u001b[0mprint\u001b[0m\u001b[1;33m(\u001b[0m\u001b[0mA\u001b[0m\u001b[1;33m[\u001b[0m \u001b[1;33m:\u001b[0m \u001b[0mA\u001b[0m\u001b[1;33m.\u001b[0m\u001b[0mindex\u001b[0m\u001b[1;33m(\u001b[0m\u001b[0mB\u001b[0m\u001b[1;33m.\u001b[0m\u001b[0mupper\u001b[0m\u001b[1;33m(\u001b[0m\u001b[1;33m)\u001b[0m\u001b[1;33m.\u001b[0m\u001b[0mstrip\u001b[0m\u001b[1;33m(\u001b[0m\u001b[1;33m)\u001b[0m\u001b[1;33m)\u001b[0m\u001b[1;33m+\u001b[0m\u001b[1;36m1\u001b[0m\u001b[1;33m]\u001b[0m  \u001b[1;33m)\u001b[0m\u001b[1;33m\u001b[0m\u001b[1;33m\u001b[0m\u001b[0m\n\u001b[0m\u001b[0;32m      4\u001b[0m \u001b[1;33m\u001b[0m\u001b[0m\n",
      "\u001b[1;31mValueError\u001b[0m: 'HB' is not in list"
     ]
    }
   ],
   "source": [
    "A = [\"A\",\"B\",\"C\",\"D\",\"E\",\"F\",\"G\",\"H\",\"I\",\"J\",\"K\",\"L\",\"M\",\"N\",\"O\",\"P\",\"Q\",\"R\",\"S\",\"T\",\"U\",\"V\",\"W\",\"X\",\"Y\",\"Z\"]\n",
    "B = input(\"Enter a character- \")  # z\n",
    "print(A[ : A.index(B.upper().strip())+1]  )"
   ]
  },
  {
   "cell_type": "code",
   "execution_count": 86,
   "id": "33c2f235",
   "metadata": {},
   "outputs": [
    {
     "name": "stdout",
     "output_type": "stream",
     "text": [
      "Mention Character : d\n",
      "['A', 'B', 'C', 'D', 'E', 'F', 'G', 'H', 'I', 'J', 'K', 'L', 'M', 'N', 'O', 'P', 'Q', 'R', 'S', 'T', 'U', 'V', 'W', 'X', 'Y', 'Z']\n"
     ]
    },
    {
     "data": {
      "text/plain": [
       "['A', 'B', 'C', 'D']"
      ]
     },
     "execution_count": 86,
     "metadata": {},
     "output_type": "execute_result"
    }
   ],
   "source": [
    "char = input(\"Mention Character : \")\n",
    "char = char.upper().strip()\n",
    "\n",
    "import string\n",
    "seq = string.ascii_uppercase\n",
    "seq = list(seq)\n",
    "print(seq)\n",
    "\n",
    "seq[ : seq.index(char) + 1 ]\n"
   ]
  },
  {
   "cell_type": "code",
   "execution_count": null,
   "id": "20ff30f8",
   "metadata": {},
   "outputs": [],
   "source": []
  },
  {
   "cell_type": "code",
   "execution_count": null,
   "id": "46039e2a",
   "metadata": {},
   "outputs": [],
   "source": []
  },
  {
   "cell_type": "code",
   "execution_count": null,
   "id": "02e53c70",
   "metadata": {},
   "outputs": [],
   "source": []
  },
  {
   "cell_type": "code",
   "execution_count": null,
   "id": "4e3321f2",
   "metadata": {},
   "outputs": [],
   "source": [
    "#Li3 H\n",
    "WAP to check if a specific employee e is present in a company or not. Employee names are saved in a list.\n",
    "e is taken as input from the user.\n",
    "\n",
    "For example: empList = [\"Ashwin\", \"Rachit\", \"Sanjana\", \"David\", \"Komal\"]\n",
    "            Input1: \"Komal\"\n",
    "            Output1: \"Employee is present\"\n",
    "            \n",
    "            Input2: \"Nitish\"\n",
    "            Output2: \"Employee is not present\""
   ]
  },
  {
   "cell_type": "code",
   "execution_count": null,
   "id": "1dc51331",
   "metadata": {},
   "outputs": [],
   "source": []
  },
  {
   "cell_type": "code",
   "execution_count": null,
   "id": "59d627e3",
   "metadata": {},
   "outputs": [],
   "source": [
    "#Li4 M\n",
    "Write a python program to find the maximum and minimum number in a list of 10 elements \n",
    "   (taken as input from the user) and also find the index position of the these numbers.\n",
    "    \n",
    "   For example: Input : [25, 2, 1, 86, 42, 32, 27, 12, 31, 10]\n",
    "\t\tOutput: Max Number: 86, Index of Max Number: 3\n",
    "\t\t\tMin Number: 1, Index of Min Number: 2"
   ]
  },
  {
   "cell_type": "code",
   "execution_count": 87,
   "id": "d936ab1a",
   "metadata": {},
   "outputs": [
    {
     "name": "stdout",
     "output_type": "stream",
     "text": [
      "Max number: 86,Index of Max number: 3\n",
      "Min number: 1,Index of Min number: 2\n"
     ]
    }
   ],
   "source": [
    "inputList=[25, 2, 1, 86, 42, 32, 27, 12, 31, 10]\n",
    "\n",
    "print(f\"Max number: {max(inputList)},Index of Max number: {inputList.index(max(inputList))}\")\n",
    "print(f\"Min number: {min(inputList)},Index of Min number: {inputList.index(min(inputList))}\")\n"
   ]
  },
  {
   "cell_type": "code",
   "execution_count": null,
   "id": "e3c5e621",
   "metadata": {},
   "outputs": [],
   "source": []
  },
  {
   "cell_type": "code",
   "execution_count": null,
   "id": "9a6d28f0",
   "metadata": {},
   "outputs": [],
   "source": []
  },
  {
   "cell_type": "code",
   "execution_count": null,
   "id": "a791d518",
   "metadata": {},
   "outputs": [],
   "source": [
    "#Li5 M\n",
    "Given two Python lists of same length. Iterate both lists simultaneously such that list1 \n",
    "   should display item in original order and list2 in reverse order.\n",
    "    \n",
    "   For example: Input = list1 = [10, 20, 30, 40]\n",
    "\t\t\tlist2 = [100, 200, 300, 400]\n",
    "            Output: 10 400\n",
    "                    20 300\n",
    "                    30 200\n",
    "                    40 100"
   ]
  },
  {
   "cell_type": "code",
   "execution_count": 91,
   "id": "4b206c63",
   "metadata": {},
   "outputs": [
    {
     "name": "stdout",
     "output_type": "stream",
     "text": [
      "10   400\n",
      "20   300\n",
      "30   200\n",
      "40   100\n"
     ]
    }
   ],
   "source": [
    "list1 = [10, 20, 30, 40]\n",
    "list2 = [100, 200, 300, 400]\n",
    "\n",
    "list2 = list2[ : : -1]\n",
    "for i in range( len(list1)) : \n",
    "    print(list1[i], \" \", list2[i])\n"
   ]
  },
  {
   "cell_type": "code",
   "execution_count": null,
   "id": "3554c7ec",
   "metadata": {},
   "outputs": [],
   "source": [
    "#Li6 M\n",
    "WAP to concatenate two lists index-wise.\n",
    "    list1 = [\"M\", \"na\", \"i\", \"Ashu\"]\n",
    "    list2 = [\"y\", \"me\", \"s\", \"tosh\"]\n",
    "    Output: ['My', 'name', 'is', 'Ashutosh']"
   ]
  },
  {
   "cell_type": "code",
   "execution_count": null,
   "id": "f8c12e5f",
   "metadata": {},
   "outputs": [],
   "source": [
    "#Li7 M\n",
    "WAP to remove/delete items from a list while iterating without creating a duplicate list.\n",
    "Take the elements to be deleted from the user in real-time.\n",
    "\n",
    "Input : \n",
    "# [0, 1, 2, 3, 4, 5, 6, 7, 8, 9]\n",
    "# Enter Number between 0 - 9 : 4\n",
    "\n",
    "Output : \n",
    "# [0, 1, 2, 3, 5, 6, 7, 8, 9]\n"
   ]
  },
  {
   "cell_type": "code",
   "execution_count": 93,
   "id": "fbc7085c",
   "metadata": {},
   "outputs": [
    {
     "name": "stdout",
     "output_type": "stream",
     "text": [
      "[0, 1, 2, 3, 4, 5, 6, 7, 8, 9]\n",
      "Enter Number between 0 - 9 : 4\n",
      "[0, 1, 2, 3, 5, 6, 7, 8, 9]\n"
     ]
    }
   ],
   "source": [
    "uList = [i for i in range(10)]\n",
    "print( uList )\n",
    "\n",
    "uValue = int(input( \"Enter Number between 0 - 9 : \" ))\n",
    "for i in uList : \n",
    "    if i == uValue : \n",
    "        uList.remove(i)\n",
    "print(uList)\n",
    "    \n",
    "\n"
   ]
  },
  {
   "cell_type": "code",
   "execution_count": 95,
   "id": "4f4c9f51",
   "metadata": {},
   "outputs": [
    {
     "name": "stdout",
     "output_type": "stream",
     "text": [
      "Enter a space seperated list as input=25 25 4\n",
      "Enter a element to delete from the list=25\n",
      "['25', '4']\n"
     ]
    }
   ],
   "source": [
    "A=str(input(\"Enter a space seperated list as input=\")).split()\n",
    "B=str(input(\"Enter a element to delete from the list=\"))\n",
    "A.remove(str(B))\n",
    "print(A)\n"
   ]
  },
  {
   "cell_type": "code",
   "execution_count": null,
   "id": "21035b29",
   "metadata": {},
   "outputs": [],
   "source": []
  },
  {
   "cell_type": "code",
   "execution_count": null,
   "id": "8cb8c083",
   "metadata": {},
   "outputs": [],
   "source": [
    "# siddharth **\n",
    "\n",
    "userList = [\"Siddharth\", 32, 54.6, \"Kangle\"]\n",
    "\n",
    "while len(userList) > 0:\n",
    "    delete_element = input(\"Please enter the element you wish to delete. Enter 'Stop' to stop process: \").strip()\n",
    "    \n",
    "    if delete_element.isalpha() and delete_element in userList:\n",
    "        userList.remove(delete_element)\n",
    "        print(f\"Element successfully deleted! Modified list is: {userList}\")\n",
    "    elif delete_element.isdigit() and int(delete_element) in userList:\n",
    "        userList.remove(int(delete_element))\n",
    "        print(f\"Element successfully deleted! Modified list is: {userList}\")\n",
    "    elif '.' in delete_element and float(delete_element) in userList:\n",
    "        userList.remove(float(delete_element))\n",
    "        print(f\"Element successfully deleted! Modified list is: {userList}\")\n",
    "    elif delete_element.title().strip() == \"Stop\":\n",
    "        print(f\"Process stopped. Your modified list is {userList}\")\n",
    "        break\n",
    "    else:\n",
    "        print(\"Element not found in user list. Try again\")\n",
    "        continue\n"
   ]
  },
  {
   "cell_type": "code",
   "execution_count": null,
   "id": "423ab8a5",
   "metadata": {},
   "outputs": [],
   "source": []
  },
  {
   "cell_type": "code",
   "execution_count": null,
   "id": "258ff0e5",
   "metadata": {},
   "outputs": [],
   "source": [
    "#Li8 E\n",
    "WAP to generate a Python list of all the prime numbers between n to m where n & m are taken as input from the user."
   ]
  },
  {
   "cell_type": "code",
   "execution_count": null,
   "id": "4ae04c44",
   "metadata": {},
   "outputs": [],
   "source": []
  },
  {
   "cell_type": "code",
   "execution_count": null,
   "id": "96c4f1c9",
   "metadata": {},
   "outputs": [],
   "source": []
  },
  {
   "cell_type": "code",
   "execution_count": null,
   "id": "e705f7e2",
   "metadata": {},
   "outputs": [],
   "source": [
    "#Li9 M\n",
    "WAP to concatenate two lists in the following order:\n",
    "    list1 = [\"Hello \", \"World\"]\n",
    "    list2 = [\"Hi\", \"There\"]\n",
    "    Output: ['Hello Hi', 'Hello There', 'World Hi', 'World There']"
   ]
  },
  {
   "cell_type": "code",
   "execution_count": 6,
   "id": "89ea6c5b",
   "metadata": {},
   "outputs": [
    {
     "name": "stdout",
     "output_type": "stream",
     "text": [
      "Enter the name: Komal\n",
      "27\n"
     ]
    }
   ],
   "source": [
    "# Li10 M\n",
    "Given two lists having names of students and their corresponding marks.\n",
    "names = [\"Ashutosh\", \"Ajay\", \"Alankrita\", \"Rachit\", \"Komal\", \"Anil\"]\n",
    "marks = [23, 21, 26, 23, 27, 24]\n",
    "Take name of a student as input from the user and output his/her marks.\n",
    "\n",
    "For e.g.:\n",
    "    Input1: \"Alankrita\"\n",
    "    Output1: 26\n",
    "        \n",
    "    Input2: \"Someone\"\n",
    "    Output2: \"Student not found\""
   ]
  },
  {
   "cell_type": "code",
   "execution_count": 97,
   "id": "5299fb96",
   "metadata": {},
   "outputs": [
    {
     "name": "stdout",
     "output_type": "stream",
     "text": [
      "Enter the name of the student : Rachit\n",
      "23\n"
     ]
    }
   ],
   "source": [
    "names = [\"Ashutosh\", \"Ajay\", \"Alankrita\", \"Rachit\", \"Komal\", \"Anil\"]\n",
    "marks = [23, 21, 26, 23, 27, 24]\n",
    "\n",
    "Name = input(\"Enter the name of the student : \")\n",
    "\n",
    "if Name in names :\n",
    "    x = names.index(Name)\n",
    "    y = marks[x]\n",
    "    \n",
    "    print(y)\n",
    "else :\n",
    "    print(\"Student not found\")\n"
   ]
  },
  {
   "cell_type": "code",
   "execution_count": null,
   "id": "2692b43c",
   "metadata": {},
   "outputs": [],
   "source": [
    "#Li11 H\n",
    "Extended question of #Li10\n",
    "Add an option to change marks of any students in the same code of #Li10. Take student name and new marks from the user. \n",
    "Print the modified list as output.\n",
    "\n",
    "For e.g.: Input: \"Ajay\"\n",
    "        new_mark: 25\n",
    "        Output: marks = [23, 25, 26, 23, 27, 24]"
   ]
  },
  {
   "cell_type": "code",
   "execution_count": 99,
   "id": "62c5db79",
   "metadata": {},
   "outputs": [
    {
     "name": "stdout",
     "output_type": "stream",
     "text": [
      "Names of student-['Ashutosh', 'Ajay', 'Alankrita', 'Rachit', 'Komal', 'Anil']\n",
      "Marks-[23, 21, 26, 23, 27, 24]\n",
      "Enter a student name-Komal\n",
      "marks=27\n",
      "Enter an updated/new marks for Komal=30\n",
      "Updated marks list=[23, 21, 26, 23, 30, 24]\n"
     ]
    }
   ],
   "source": [
    "names= [\"Ashutosh\", \"Ajay\", \"Alankrita\", \"Rachit\", \"Komal\", \"Anil\"]\n",
    "marks= [23, 21, 26, 23, 27, 24]\n",
    "\n",
    "print(f\"Names of student-{names}\\nMarks-{marks}\")\n",
    "a= input(\"Enter a student name-\")\n",
    "if a in names:\n",
    "    print(f\"marks={marks[names.index(str(a))]}\")\n",
    "else:\n",
    "    print(\"Student not found\")\n",
    "\n",
    "b=int(input(f\"Enter an updated/new marks for {a}=\"))\n",
    "# names.append(a)\n",
    "marks.insert(int(names.index(str(a))),b)\n",
    "marks.pop(int(names.index(str(a)))+1)\n",
    "print(f\"Updated marks list={marks}\")\n"
   ]
  },
  {
   "cell_type": "code",
   "execution_count": 100,
   "id": "0b730178",
   "metadata": {},
   "outputs": [
    {
     "name": "stdout",
     "output_type": "stream",
     "text": [
      "enter name: komal\n",
      "enter marks: 100\n",
      "[23, 21, 26, 23, 100, 24]\n"
     ]
    }
   ],
   "source": [
    "names = [\"Ashutosh\", \"Ajay\", \"Alankrita\", \"Rachit\", \"Komal\", \"Anil\"]\n",
    "marks = [23, 21, 26, 23, 27, 24]\n",
    "\n",
    "student=input('enter name: ').strip().title()\n",
    "\n",
    "new_marks=int(input('enter marks: '))\n",
    "\n",
    "if student in names:\n",
    "    r=names.index(student)\n",
    "    marks[r]=new_marks\n",
    "else:\n",
    "    pass;\n",
    "print(marks)\n"
   ]
  },
  {
   "cell_type": "code",
   "execution_count": null,
   "id": "1f0122e5",
   "metadata": {},
   "outputs": [],
   "source": []
  },
  {
   "cell_type": "code",
   "execution_count": null,
   "id": "603daf73",
   "metadata": {},
   "outputs": [],
   "source": [
    "#Li12 H\n",
    "Extended question of #Li10\n",
    "Give an option to enter the marks of a new student into the existing lists names and marks. Take new data as input from user.\n",
    "Print the new names and marks list as output.\n",
    "\n",
    "For e.g.: Input: New_name = \"Nitish\"\n",
    "                new_Marks = 20\n",
    "        Output: names = [\"Ashutosh\", \"Ajay\", \"Alankrita\", \"Rachit\", \"Komal\", \"Anil\", \"Nitish\"]\n",
    "                marks = [23, 21, 26, 23, 27, 24, 20]"
   ]
  },
  {
   "cell_type": "code",
   "execution_count": null,
   "id": "47aca5cb",
   "metadata": {},
   "outputs": [],
   "source": []
  },
  {
   "cell_type": "code",
   "execution_count": null,
   "id": "c4bd52f5",
   "metadata": {},
   "outputs": [],
   "source": []
  },
  {
   "cell_type": "markdown",
   "id": "a2786b1a",
   "metadata": {},
   "source": [
    "### Dictionary Questions"
   ]
  },
  {
   "cell_type": "code",
   "execution_count": null,
   "id": "074bb326",
   "metadata": {},
   "outputs": [],
   "source": [
    "#D1\n",
    "WAP in Python to merge following dictionaries to create a new one:\n",
    "\tdic1={1:10, 2:20}\n",
    "\tdic2={3:30, 4:40}\n",
    "\tdic3={5:50, 6:60}"
   ]
  },
  {
   "cell_type": "code",
   "execution_count": null,
   "id": "9f8fbb95",
   "metadata": {},
   "outputs": [],
   "source": [
    "#D2\n",
    "WAP in python to generate and print a dictionary that contains a number (between 1 and n) \n",
    "in the form {x : x*x} where n is the input from the user.\n",
    "\n",
    "For e.g. Input: 4\n",
    "        Output: {1:1, 2:4, 3:9, 4:16}"
   ]
  },
  {
   "cell_type": "code",
   "execution_count": null,
   "id": "27c49ab7",
   "metadata": {},
   "outputs": [],
   "source": [
    "#D3\n",
    "WAP in python to find the number of vowels, consonants, digits, white space characters & \n",
    "special characters in a string and save the result in the form of a dictionary."
   ]
  },
  {
   "cell_type": "code",
   "execution_count": null,
   "id": "5062c5a6",
   "metadata": {},
   "outputs": [],
   "source": [
    "#D4\n",
    "WAP to reverse map the dictionary items. Take dictionary as input from the user.\n",
    "\n",
    "\tFor eg., Input: d = {'A': 65, 'B': 66, 'C': 67, 'D': 68}\n",
    "            Output: d = {65: 'A', 66: 'B', 67: 'C', 68: 'D'}"
   ]
  },
  {
   "cell_type": "code",
   "execution_count": null,
   "id": "8dc2badd",
   "metadata": {},
   "outputs": [],
   "source": [
    "#D5\n",
    "WAP to save Username and Password of 10 employees in an organisation. \n",
    "Take the Username and Password as input from the user one by one and save in the Dictionary."
   ]
  },
  {
   "cell_type": "code",
   "execution_count": null,
   "id": "b17f0878",
   "metadata": {},
   "outputs": [],
   "source": [
    "#D6\n",
    "Extended Question from #D5\n",
    "Write an additional functionality to check if an employee is present in the organisation or not.\n",
    "Basically \"Search\" Functionality based on their username\n",
    "Take employee name as input from the user.\n",
    "If the employee is present, print \"Present\" else print \"Not Present\""
   ]
  },
  {
   "cell_type": "code",
   "execution_count": null,
   "id": "2c610a62",
   "metadata": {},
   "outputs": [],
   "source": []
  },
  {
   "cell_type": "markdown",
   "id": "1544e356",
   "metadata": {},
   "source": [
    "### Misc. Questions - i.e. you can use any data type which seems feasible for question"
   ]
  },
  {
   "cell_type": "code",
   "execution_count": null,
   "id": "84e4df09",
   "metadata": {},
   "outputs": [],
   "source": [
    "#M1\n",
    "WAP in python that accepts two integers (n) & (m) from user and \n",
    "computes the value of 2n3 + 5m2 - 7n + 10"
   ]
  },
  {
   "cell_type": "code",
   "execution_count": null,
   "id": "21fb8288",
   "metadata": {},
   "outputs": [],
   "source": [
    "#M2\n",
    "Write a python program to find the intersection of elements from two list \n",
    "(find the common elements in two lists)."
   ]
  },
  {
   "cell_type": "code",
   "execution_count": null,
   "id": "9591eb33",
   "metadata": {},
   "outputs": [],
   "source": [
    "#M3\n",
    "WAP in Python to find the Max of n numbers all taken as input from the user."
   ]
  },
  {
   "cell_type": "code",
   "execution_count": null,
   "id": "6f570308",
   "metadata": {},
   "outputs": [],
   "source": [
    "#M4\n",
    "WAP which takes a sequence of numbers from the user and check if all input numbers are unique."
   ]
  },
  {
   "cell_type": "code",
   "execution_count": null,
   "id": "936a92f7",
   "metadata": {},
   "outputs": [],
   "source": [
    "#M5\n",
    "WAP to reverse a given integer number.\n",
    "Example: Input: 105320\n",
    "        Output: 023501"
   ]
  },
  {
   "cell_type": "code",
   "execution_count": null,
   "id": "cb3888ca",
   "metadata": {},
   "outputs": [],
   "source": [
    "#M6\n",
    "WAP to take 10 integer inputs from the user and save them in a list. \n",
    "The inputs have to be mix of even and odd numbers. \n",
    "Now make one list to save all the even numbers from the input list. \n",
    "Make another list for odd numbers too."
   ]
  },
  {
   "cell_type": "code",
   "execution_count": null,
   "id": "95e7160e",
   "metadata": {},
   "outputs": [],
   "source": [
    "#M7\n",
    "WAP to convert temperature in Fahrenheit to Celsius. Take the temperature from the user in float type."
   ]
  },
  {
   "cell_type": "code",
   "execution_count": null,
   "id": "be15e936",
   "metadata": {},
   "outputs": [],
   "source": [
    "#M8\n",
    "WAP to continuously take Names as input from the user. \n",
    "Save the incoming names into a list as Full Name and save {First Name:Second Name} in a dictionary.\n",
    "Take inputs till the user enters \"Stop\"\n",
    "\n",
    "For e.g.: Input: \"Shahrukh Khan\", \"Gauri Khan\",...................\"Stop\"\n",
    "         Output: list1 = [\"Shahrukh Khan\", \"Gauri Khan\",....................]\n",
    "                dict1 = {\"Shahrukh\":\"Khan\", \"Gauri\":\"Khan\", .....................}"
   ]
  },
  {
   "cell_type": "code",
   "execution_count": null,
   "id": "1fdaace9",
   "metadata": {},
   "outputs": [],
   "source": [
    "#M9\n",
    "WAP to make a simple and compound interest calculator. Take all the necessary data as input from the user."
   ]
  },
  {
   "cell_type": "code",
   "execution_count": null,
   "id": "c2671aca",
   "metadata": {},
   "outputs": [],
   "source": [
    "#M10\n"
   ]
  },
  {
   "cell_type": "code",
   "execution_count": null,
   "id": "2bdcab62",
   "metadata": {},
   "outputs": [],
   "source": []
  },
  {
   "cell_type": "code",
   "execution_count": 102,
   "id": "99208b1c",
   "metadata": {},
   "outputs": [
    {
     "name": "stdout",
     "output_type": "stream",
     "text": [
      "[16, 3, 18, 18]\n"
     ]
    }
   ],
   "source": [
    "# Display the sum of digits of all the odd elements in a list using list comprehension\n",
    "a=[367, 111, 562, 945, 6726, 873]\n",
    "\n",
    "b=[]\n",
    "\n",
    "for i in a:\n",
    "    if i%2!=0:\n",
    "        sum=0\n",
    "        while i>0:\n",
    "            sum+=i%10\n",
    "            i=i//10\n",
    "        b.append(sum)\n",
    "print(b)\n",
    "\n"
   ]
  },
  {
   "cell_type": "code",
   "execution_count": null,
   "id": "961c5273",
   "metadata": {},
   "outputs": [],
   "source": []
  }
 ],
 "metadata": {
  "kernelspec": {
   "display_name": "Python 3",
   "language": "python",
   "name": "python3"
  },
  "language_info": {
   "codemirror_mode": {
    "name": "ipython",
    "version": 3
   },
   "file_extension": ".py",
   "mimetype": "text/x-python",
   "name": "python",
   "nbconvert_exporter": "python",
   "pygments_lexer": "ipython3",
   "version": "3.8.3"
  }
 },
 "nbformat": 4,
 "nbformat_minor": 5
}
