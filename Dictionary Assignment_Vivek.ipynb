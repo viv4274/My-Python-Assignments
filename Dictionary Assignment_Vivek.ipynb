{
 "cells": [
  {
   "cell_type": "code",
   "execution_count": null,
   "id": "9a15c939",
   "metadata": {},
   "outputs": [],
   "source": [
    "# Program to Check if a Given Key Exists in a Dictionary or Not\n",
    "\n",
    "r = int(input('enter a range:'))\n",
    "val_lst = [input('enter a value:') for i in range(0,r)]\n",
    "key_lst = [input('enter a key:') for j in range(0,r)]\n",
    "mydict = dict(zip(key_lst,val_lst))\n",
    "print(mydict)\n",
    "srch_key = input('enter a key to search:')\n",
    "if srch_key in mydict.keys():\n",
    "    print('key is present')\n",
    "else:\n",
    "    print('key is not present')"
   ]
  },
  {
   "cell_type": "code",
   "execution_count": null,
   "id": "60c737d3",
   "metadata": {},
   "outputs": [],
   "source": [
    "#  Program to Sum All the Items in a Dictionary\n",
    "\n",
    "r1 = int(input('enter a range:'))\n",
    "val_lst1 = [int(input('enter a value:')) for i in range(0,r1)]\n",
    "key_lst1 = [input('enter a key:') for j in range(0,r1)]\n",
    "mydict1 = dict(zip(key_lst1,val_lst1))\n",
    "print(mydict1)\n",
    "sum1 = 0\n",
    "for v in mydict1.values():\n",
    "    sum1 = sum1 + v\n",
    "print(sum1)"
   ]
  },
  {
   "cell_type": "code",
   "execution_count": null,
   "id": "3e7ce116",
   "metadata": {},
   "outputs": [],
   "source": [
    "# Program to Remove the Given Key from a Dictionary\n",
    "\n",
    "r2 = int(input('enter a range:'))\n",
    "val_lst2 = [input('enter a value:') for i in range(0,r2)]\n",
    "key_lst2 = [input('enter a key:') for j in range(0,r2)]\n",
    "mydict2 = dict(zip(key_lst2,val_lst2))\n",
    "print(mydict2)\n",
    "del_key = input('enter a key to delete:')\n",
    "mydictnew = mydict2.pop(del_key)\n",
    "print(mydict2)"
   ]
  },
  {
   "cell_type": "code",
   "execution_count": null,
   "id": "7ecd4988",
   "metadata": {},
   "outputs": [],
   "source": [
    "# Write a Python program to iterate over dictionaries using for loops\n",
    "\n",
    "r3 = int(input('enter a range:'))\n",
    "val_lst3 = [input('enter a value:') for i in range(0,r3)]\n",
    "key_lst3 = [input('enter a key:') for j in range(0,r3)]\n",
    "mydict3 = dict(zip(key_lst3,val_lst3))\n",
    "print(mydict3)\n",
    "for k,v in mydict3.items():\n",
    "    print(k,v)"
   ]
  },
  {
   "cell_type": "code",
   "execution_count": null,
   "id": "6faa7a6b",
   "metadata": {},
   "outputs": [],
   "source": [
    "# Write a Python program to sort a dictionary by key\n",
    "\n",
    "r4 = int(input('enter a range:'))\n",
    "val_lst4 = [input('enter a value:') for i in range(0,r4)]\n",
    "key_lst4 = [input('enter a key:') for j in range(0,r4)]\n",
    "mydict4 = dict(zip(key_lst4,val_lst4))\n",
    "for k in sorted(mydict4):\n",
    "    print(k,mydict4[k])"
   ]
  }
 ],
 "metadata": {
  "kernelspec": {
   "display_name": "Python 3 (ipykernel)",
   "language": "python",
   "name": "python3"
  },
  "language_info": {
   "codemirror_mode": {
    "name": "ipython",
    "version": 3
   },
   "file_extension": ".py",
   "mimetype": "text/x-python",
   "name": "python",
   "nbconvert_exporter": "python",
   "pygments_lexer": "ipython3",
   "version": "3.9.13"
  }
 },
 "nbformat": 4,
 "nbformat_minor": 5
}
